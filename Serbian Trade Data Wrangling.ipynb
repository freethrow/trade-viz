{
 "cells": [
  {
   "cell_type": "markdown",
   "metadata": {},
   "source": [
    "# Interactive Serbian Trade Data\n",
    "\n",
    "This is a project based on the Statistical Office of the Republic of Serbia open trade statistics dataset. It aims to provide an intuitive and direct way of interacting with the underlying data, enabling the user to ask questions and get a visual response.\n",
    "\n",
    "The application is based on Dash, which on the other hand, relies on Plotly, React and Flask.\n",
    "\n",
    "The making of this app is documented on my site, while the Jupyter Notebook with the data wrangling is here.\n",
    "\n",
    "Data wrangling for Dash\n",
    "In this notebook I have played around with the Statistical Office Open Dataset, did some data wrangling and simple transformations and so on.\n",
    "\n",
    "I will be working with two, possibly three datasets, each with an increasing level of granularity. They do share, however, a similar structure: each file has some columns in common: the year, the country, the name of the commodity group, codes for country and group and so on. The rows contain two groups of data: quantity in kg and the value in US dollars."
   ]
  },
  {
   "cell_type": "code",
   "execution_count": 1,
   "metadata": {},
   "outputs": [],
   "source": [
    "%matplotlib inline\n",
    "import numpy as np\n",
    "import pandas as pd\n",
    "\n",
    "import matplotlib.pyplot as plt\n",
    "\n",
    "import os\n",
    "import os.path"
   ]
  },
  {
   "cell_type": "markdown",
   "metadata": {},
   "source": [
    "## The simple(r) dataset\n",
    "\n",
    "The first dataset contains just around 30.000 rows and describes just the topmost 10 trade categories. The SMTK category system, as I learned, is based on a number or cipher hierarchy. For simplicity, let's say that the most basic categories are denoted with numbers 0 to 9. The next level is composed of two digits, where 12 and 11, for example, belong to the 1-category and so on...\n",
    "\n",
    "Since I cannot put the datasets on GitHub, they are on Dropbox in a public folder. Just make sure to put dl=1 at the end, instead of the default dl=0."
   ]
  },
  {
   "cell_type": "code",
   "execution_count": 104,
   "metadata": {},
   "outputs": [],
   "source": [
    "serbian_imports = pd.read_csv('https://www.dropbox.com/s/s06v0k9vpvjp5sf/imp_groups.csv?dl=0', sep=';')"
   ]
  },
  {
   "cell_type": "markdown",
   "metadata": {},
   "source": [
    "The **read_csv** went smooth, as we'll see later, this isn't the case for the bigger datasets which contain errors."
   ]
  },
  {
   "cell_type": "code",
   "execution_count": 105,
   "metadata": {},
   "outputs": [
    {
     "data": {
      "text/html": [
       "<div>\n",
       "<style scoped>\n",
       "    .dataframe tbody tr th:only-of-type {\n",
       "        vertical-align: middle;\n",
       "    }\n",
       "\n",
       "    .dataframe tbody tr th {\n",
       "        vertical-align: top;\n",
       "    }\n",
       "\n",
       "    .dataframe thead th {\n",
       "        text-align: right;\n",
       "    }\n",
       "</style>\n",
       "<table border=\"1\" class=\"dataframe\">\n",
       "  <thead>\n",
       "    <tr style=\"text-align: right;\">\n",
       "      <th></th>\n",
       "      <th>idindikator</th>\n",
       "      <th>mes</th>\n",
       "      <th>god</th>\n",
       "      <th>IDDrzave</th>\n",
       "      <th>nDrzave</th>\n",
       "      <th>IDNSST</th>\n",
       "      <th>nNSST</th>\n",
       "      <th>IDVrPod</th>\n",
       "      <th>nVrPod</th>\n",
       "      <th>vrednost</th>\n",
       "    </tr>\n",
       "  </thead>\n",
       "  <tbody>\n",
       "    <tr>\n",
       "      <th>0</th>\n",
       "      <td>170301IND02</td>\n",
       "      <td>0</td>\n",
       "      <td>2004</td>\n",
       "      <td>00</td>\n",
       "      <td>All countries</td>\n",
       "      <td>0</td>\n",
       "      <td>Food and live animals</td>\n",
       "      <td>1</td>\n",
       "      <td>Quantity, tonnes</td>\n",
       "      <td>823033.1</td>\n",
       "    </tr>\n",
       "    <tr>\n",
       "      <th>1</th>\n",
       "      <td>170301IND02</td>\n",
       "      <td>0</td>\n",
       "      <td>2004</td>\n",
       "      <td>00</td>\n",
       "      <td>All countries</td>\n",
       "      <td>0</td>\n",
       "      <td>Food and live animals</td>\n",
       "      <td>2</td>\n",
       "      <td>Total, USD thousand</td>\n",
       "      <td>624482.5</td>\n",
       "    </tr>\n",
       "    <tr>\n",
       "      <th>2</th>\n",
       "      <td>170301IND02</td>\n",
       "      <td>0</td>\n",
       "      <td>2004</td>\n",
       "      <td>00</td>\n",
       "      <td>All countries</td>\n",
       "      <td>1</td>\n",
       "      <td>Beverages and tobacco</td>\n",
       "      <td>1</td>\n",
       "      <td>Quantity, tonnes</td>\n",
       "      <td>51928.9</td>\n",
       "    </tr>\n",
       "    <tr>\n",
       "      <th>3</th>\n",
       "      <td>170301IND02</td>\n",
       "      <td>0</td>\n",
       "      <td>2004</td>\n",
       "      <td>00</td>\n",
       "      <td>All countries</td>\n",
       "      <td>1</td>\n",
       "      <td>Beverages and tobacco</td>\n",
       "      <td>2</td>\n",
       "      <td>Total, USD thousand</td>\n",
       "      <td>161663.0</td>\n",
       "    </tr>\n",
       "    <tr>\n",
       "      <th>4</th>\n",
       "      <td>170301IND02</td>\n",
       "      <td>0</td>\n",
       "      <td>2004</td>\n",
       "      <td>00</td>\n",
       "      <td>All countries</td>\n",
       "      <td>2</td>\n",
       "      <td>Crude materials,inedible,except fuels</td>\n",
       "      <td>1</td>\n",
       "      <td>Quantity, tonnes</td>\n",
       "      <td>2398144.2</td>\n",
       "    </tr>\n",
       "  </tbody>\n",
       "</table>\n",
       "</div>"
      ],
      "text/plain": [
       "   idindikator  mes   god IDDrzave        nDrzave  IDNSST  \\\n",
       "0  170301IND02    0  2004       00  All countries       0   \n",
       "1  170301IND02    0  2004       00  All countries       0   \n",
       "2  170301IND02    0  2004       00  All countries       1   \n",
       "3  170301IND02    0  2004       00  All countries       1   \n",
       "4  170301IND02    0  2004       00  All countries       2   \n",
       "\n",
       "                                   nNSST  IDVrPod               nVrPod  \\\n",
       "0                  Food and live animals        1     Quantity, tonnes   \n",
       "1                  Food and live animals        2  Total, USD thousand   \n",
       "2                  Beverages and tobacco        1     Quantity, tonnes   \n",
       "3                  Beverages and tobacco        2  Total, USD thousand   \n",
       "4  Crude materials,inedible,except fuels        1     Quantity, tonnes   \n",
       "\n",
       "    vrednost  \n",
       "0   823033.1  \n",
       "1   624482.5  \n",
       "2    51928.9  \n",
       "3   161663.0  \n",
       "4  2398144.2  "
      ]
     },
     "execution_count": 105,
     "metadata": {},
     "output_type": "execute_result"
    }
   ],
   "source": [
    "serbian_imports.head()"
   ]
  },
  {
   "cell_type": "code",
   "execution_count": 4,
   "metadata": {},
   "outputs": [
    {
     "data": {
      "text/plain": [
       "idindikator     object\n",
       "mes              int64\n",
       "god              int64\n",
       "IDDrzave        object\n",
       "nDrzave         object\n",
       "IDNSST           int64\n",
       "nNSST           object\n",
       "IDVrPod          int64\n",
       "nVrPod          object\n",
       "vrednost       float64\n",
       "dtype: object"
      ]
     },
     "execution_count": 4,
     "metadata": {},
     "output_type": "execute_result"
    }
   ],
   "source": [
    "serbian_imports.dtypes"
   ]
  },
  {
   "cell_type": "markdown",
   "metadata": {},
   "source": [
    "Again, here the category ID (IDNSST) is parsed as an integer, since it can take values from 0-9. However, for the bigger dataset that we'll examine later - this will not work. "
   ]
  },
  {
   "cell_type": "code",
   "execution_count": 5,
   "metadata": {},
   "outputs": [
    {
     "data": {
      "text/plain": [
       "array(['Quantity, tonnes', 'Total, USD thousand'], dtype=object)"
      ]
     },
     "execution_count": 5,
     "metadata": {},
     "output_type": "execute_result"
    }
   ],
   "source": [
    "# check integrity - there should be only two possible values\n",
    "serbian_imports.nVrPod.unique()"
   ]
  },
  {
   "cell_type": "code",
   "execution_count": 6,
   "metadata": {},
   "outputs": [
    {
     "data": {
      "text/plain": [
       "array(['All countries', 'Andorra', 'United Arab Emirates', 'Afghanistan',\n",
       "       'Antigua and Barbuda', 'Albania', 'Armenia',\n",
       "       'Netherlands Antilles', 'Angola', 'Argentina', 'Austria',\n",
       "       'Australia', 'Azerbaijan', 'Rep. of Bosnia and Herzegovina',\n",
       "       'Barbados', 'Bangladesh', 'Belgium', 'Burkina Faso', 'Bulgaria',\n",
       "       'Bahrain', 'Burundi', 'Benin', 'Bermuda', 'Brunei', 'Bolivia',\n",
       "       'Brazil', 'Bahamas', 'Bhutan', 'Botswana', 'Belarusa', 'Belize',\n",
       "       'Canada', 'Central African Republic', 'Congo', 'Switzerland',\n",
       "       'Ivory Coast', 'Cook Islands', 'Chile', 'Cameroon', 'China',\n",
       "       'Columbia', 'Costa Rica', 'Cuba', 'Cape Verde Islands',\n",
       "       'Christmas Island', 'Cyprus', 'Czech Republic', 'Germany',\n",
       "       'Djibouti', 'Denmark', 'Dominica', 'Dominican Republic', 'Algeria',\n",
       "       'Ecuador', 'Estonia', 'Egypt', 'Eritrea', 'Spain', 'Ethiopia',\n",
       "       'European Monetary Union', 'Finland', 'Falkland Islands',\n",
       "       'Faroe Islands', 'France', 'Gabon', 'United Kingdom', 'Grenada',\n",
       "       'Georgia', 'French Guiana', 'Ghana', 'Gibraltar', 'Greenland',\n",
       "       'Gambia', 'Guinea', 'Equatorial Guinea', 'Greece',\n",
       "       'South Georg.and the Sandwich I', 'Guatemala', 'Guam', 'Hong Kong',\n",
       "       'Honduras', 'Republic of Croatia', 'Haiti', 'Hungary', 'Indonesia',\n",
       "       'Ireland', 'Israel', 'India', 'British Indian Ocean Territory',\n",
       "       'Iraq', 'Iran', 'Iceland', 'Italy', 'Jamaica', 'Jordan', 'Japan',\n",
       "       'Kenya', 'Kyrgyzstan', 'Cambodia', 'Kiribati', 'Comoro Islands',\n",
       "       'Saint Kitts and Nevis', 'Korea, Dem. Republic of', 'Korea',\n",
       "       'Kuwait', 'Cayman Islands', 'Kazakhstan', 'Laos', 'Lebanon',\n",
       "       'Liechtenstein', 'Sri Lanka', 'Liberia', 'Lithuania', 'Luxembourg',\n",
       "       'Latvia', 'Libyan Arab Jamahiriya', 'Morocco', 'Monaco', 'Moldova',\n",
       "       'Madagascar', 'Marshall Islands', 'Republic of North Macedonia',\n",
       "       'Mali', 'Burma', 'Mongolia', 'Macau', 'Northern Marina Islands',\n",
       "       'Mauritania', 'Malta', 'Mauritius', 'Maldives', 'Malawi', 'Mexico',\n",
       "       'Malaysia', 'Mozambique', 'Namibia', 'New Caledonia', 'Niger',\n",
       "       'Nigeria', 'Nicaragua', 'Netherlands', 'Norway', 'Nepal', 'Nauru',\n",
       "       'Niue', 'New Zealand', 'Oman', 'Panama', 'Peru',\n",
       "       'French Polynesia', 'Papua New Guinea', 'Philippines', 'Pakistan',\n",
       "       'Poland', 'Pitcairn', 'Puerto Rico', 'Portugal, Republic of',\n",
       "       'Qatar', 'Reunion', 'Romania', 'Russian Federation', 'Rwanda',\n",
       "       'Saudi Arabia', 'Seychelles', 'Sudan', 'Sweden', 'Singapore',\n",
       "       'Saint Helena', 'Republic of Slovenia',\n",
       "       'Svalbard and Ian Mayen Islands', 'Slovakia', 'Sierra Leone',\n",
       "       'San Marino', 'Senegal', 'Somalia', 'Suriname',\n",
       "       'Sao Tome and Principe', 'El Salvador', 'Syrian Arab Republic',\n",
       "       'Swaziland', 'Turks and Caicos Islands', 'Chad', 'Togo',\n",
       "       'Thailand', 'Tajikistan', 'Tokelau', 'Turkmenistan', 'Tunisia',\n",
       "       'Tonga', 'East Timor', 'Turkey, Republic of',\n",
       "       'Trinidad and Tobago', 'Tuvalu', 'Taiwan, Chinese Province',\n",
       "       'Tanzania, United Republic of', 'Ukraine', 'Uganda', 'USA',\n",
       "       'Uruguay', 'Uzbekistan', 'Vatican-Holy See', 'Venezuela',\n",
       "       'British Virgin Islands', 'Virgin Isl. of the United Stat',\n",
       "       'Vietnam', 'Vanuatu', 'Samoa', 'Palestine Liberation Organisat',\n",
       "       'Yemen', 'Mayotte', 'South Africa', 'Zambia', 'Zaire', 'Zimbabwe',\n",
       "       'American Samoa', 'Aruba', 'Cocos (Keeling) Islands',\n",
       "       'Congo,Democratic Republic of', 'Guyana', 'Lesotho', 'Martinique',\n",
       "       'Montserrat', 'Occupied Palestinian Territory', 'Palaos',\n",
       "       'Saint Vincent and Grenadines', 'Bouvet', 'France, Metropolitan',\n",
       "       'Guadeloupe', 'Republic of Montenegro', 'Paraguay',\n",
       "       'South French Territory', 'Fiji', 'Micronesia', 'Saint Lucia',\n",
       "       'Timor-Leste, D Republic', 'Solomon Islands', 'Antartic',\n",
       "       'Guinea Bissau', 'Saint Pierre and Miquelon',\n",
       "       'Heard and McDonald Islands', 'European Union (28)',\n",
       "       'CEFTA countries', 'Countries not specified in extra',\n",
       "       'South Sudan', 'Sint Maarten(Duch part)', 'Saint Barthelemy',\n",
       "       'Curacao', 'US minor outlying islands',\n",
       "       'Wallis and Futuna Islands', 'Mann islands'], dtype=object)"
      ]
     },
     "execution_count": 6,
     "metadata": {},
     "output_type": "execute_result"
    }
   ],
   "source": [
    "serbian_imports.nDrzave.unique()"
   ]
  },
  {
   "cell_type": "markdown",
   "metadata": {},
   "source": [
    "Not all of these are countries (EU, CEFTA etc) - we'll filter them out."
   ]
  },
  {
   "cell_type": "code",
   "execution_count": 7,
   "metadata": {},
   "outputs": [
    {
     "data": {
      "text/plain": [
       "array(['00', 'AD', 'AE', 'AF', 'AG', 'AL', 'AM', 'AN', 'AO', 'AR', 'AT',\n",
       "       'AU', 'AZ', 'BA', 'BB', 'BD', 'BE', 'BF', 'BG', 'BH', 'BI', 'BJ',\n",
       "       'BM', 'BN', 'BO', 'BR', 'BS', 'BT', 'BW', 'BY', 'BZ', 'CA', 'CF',\n",
       "       'CG', 'CH', 'CI', 'CK', 'CL', 'CM', 'CN', 'CO', 'CR', 'CU', 'CV',\n",
       "       'CX', 'CY', 'CZ', 'DE', 'DJ', 'DK', 'DM', 'DO', 'DZ', 'EC', 'EE',\n",
       "       'EG', 'ER', 'ES', 'ET', 'EU', 'FI', 'FK', 'FO', 'FR', 'GA', 'GB',\n",
       "       'GD', 'GE', 'GF', 'GH', 'GI', 'GL', 'GM', 'GN', 'GQ', 'GR', 'GS',\n",
       "       'GT', 'GU', 'HK', 'HN', 'HR', 'HT', 'HU', 'ID', 'IE', 'IL', 'IN',\n",
       "       'IO', 'IQ', 'IR', 'IS', 'IT', 'JM', 'JO', 'JP', 'KE', 'KG', 'KH',\n",
       "       'KI', 'KM', 'KN', 'KP', 'KR', 'KW', 'KY', 'KZ', 'LA', 'LB', 'LI',\n",
       "       'LK', 'LR', 'LT', 'LU', 'LV', 'LY', 'MA', 'MC', 'MD', 'MG', 'MH',\n",
       "       'MK', 'ML', 'MM', 'MN', 'MO', 'MP', 'MR', 'MT', 'MU', 'MV', 'MW',\n",
       "       'MX', 'MY', 'MZ', nan, 'NC', 'NE', 'NG', 'NI', 'NL', 'NO', 'NP',\n",
       "       'NR', 'NU', 'NZ', 'OM', 'PA', 'PE', 'PF', 'PG', 'PH', 'PK', 'PL',\n",
       "       'PN', 'PR', 'PT', 'QA', 'RE', 'RO', 'RU', 'RW', 'SA', 'SC', 'SD',\n",
       "       'SE', 'SG', 'SH', 'SI', 'SJ', 'SK', 'SL', 'SM', 'SN', 'SO', 'SR',\n",
       "       'ST', 'SV', 'SY', 'SZ', 'TC', 'TD', 'TG', 'TH', 'TJ', 'TK', 'TM',\n",
       "       'TN', 'TO', 'TP', 'TR', 'TT', 'TV', 'TW', 'TZ', 'UA', 'UG', 'US',\n",
       "       'UY', 'UZ', 'VA', 'VE', 'VG', 'VI', 'VN', 'VU', 'WS', 'XP', 'YE',\n",
       "       'YT', 'ZA', 'ZM', 'ZR', 'ZW', 'AS', 'AW', 'CC', 'CD', 'GY', 'LS',\n",
       "       'MQ', 'MS', 'PS', 'PW', 'VC', 'BV', 'FX', 'GP', 'ME', 'PY', 'TF',\n",
       "       'FJ', 'FM', 'LC', 'TL', 'SB', 'AQ', 'GW', 'PM', 'HM', '01', '02',\n",
       "       'QW', 'SS', 'SX', 'BL', 'CW', 'UM', 'WF', 'IM'], dtype=object)"
      ]
     },
     "execution_count": 7,
     "metadata": {},
     "output_type": "execute_result"
    }
   ],
   "source": [
    "serbian_imports.IDDrzave.unique()"
   ]
  },
  {
   "cell_type": "markdown",
   "metadata": {},
   "source": [
    "As I found out, unfortunately Plotly doesn't like these __two letter__ country codes - it needs the three letter code in order to display the maps. I used a package called _pycountry_, but there are others as well."
   ]
  },
  {
   "cell_type": "code",
   "execution_count": 8,
   "metadata": {},
   "outputs": [],
   "source": [
    "serbian_exports = pd.read_csv('https://www.dropbox.com/s/0w8ptgmmdy7ok6w/exp_groups.csv?dl=1', sep=';')"
   ]
  },
  {
   "cell_type": "code",
   "execution_count": 9,
   "metadata": {},
   "outputs": [
    {
     "data": {
      "text/html": [
       "<div>\n",
       "<style scoped>\n",
       "    .dataframe tbody tr th:only-of-type {\n",
       "        vertical-align: middle;\n",
       "    }\n",
       "\n",
       "    .dataframe tbody tr th {\n",
       "        vertical-align: top;\n",
       "    }\n",
       "\n",
       "    .dataframe thead th {\n",
       "        text-align: right;\n",
       "    }\n",
       "</style>\n",
       "<table border=\"1\" class=\"dataframe\">\n",
       "  <thead>\n",
       "    <tr style=\"text-align: right;\">\n",
       "      <th></th>\n",
       "      <th>idindikator</th>\n",
       "      <th>mes</th>\n",
       "      <th>god</th>\n",
       "      <th>IDDrzave</th>\n",
       "      <th>nDrzave</th>\n",
       "      <th>IDNSST</th>\n",
       "      <th>nNSST</th>\n",
       "      <th>IDVrPod</th>\n",
       "      <th>nVrPod</th>\n",
       "      <th>vrednost</th>\n",
       "    </tr>\n",
       "  </thead>\n",
       "  <tbody>\n",
       "    <tr>\n",
       "      <th>0</th>\n",
       "      <td>170301IND02</td>\n",
       "      <td>0</td>\n",
       "      <td>2004</td>\n",
       "      <td>00</td>\n",
       "      <td>All countries</td>\n",
       "      <td>0</td>\n",
       "      <td>Food and live animals</td>\n",
       "      <td>1</td>\n",
       "      <td>Quantity, tonnes</td>\n",
       "      <td>823033.1</td>\n",
       "    </tr>\n",
       "    <tr>\n",
       "      <th>1</th>\n",
       "      <td>170301IND02</td>\n",
       "      <td>0</td>\n",
       "      <td>2004</td>\n",
       "      <td>00</td>\n",
       "      <td>All countries</td>\n",
       "      <td>0</td>\n",
       "      <td>Food and live animals</td>\n",
       "      <td>2</td>\n",
       "      <td>Total, USD thousand</td>\n",
       "      <td>624482.5</td>\n",
       "    </tr>\n",
       "    <tr>\n",
       "      <th>2</th>\n",
       "      <td>170301IND02</td>\n",
       "      <td>0</td>\n",
       "      <td>2004</td>\n",
       "      <td>00</td>\n",
       "      <td>All countries</td>\n",
       "      <td>1</td>\n",
       "      <td>Beverages and tobacco</td>\n",
       "      <td>1</td>\n",
       "      <td>Quantity, tonnes</td>\n",
       "      <td>51928.9</td>\n",
       "    </tr>\n",
       "    <tr>\n",
       "      <th>3</th>\n",
       "      <td>170301IND02</td>\n",
       "      <td>0</td>\n",
       "      <td>2004</td>\n",
       "      <td>00</td>\n",
       "      <td>All countries</td>\n",
       "      <td>1</td>\n",
       "      <td>Beverages and tobacco</td>\n",
       "      <td>2</td>\n",
       "      <td>Total, USD thousand</td>\n",
       "      <td>161663.0</td>\n",
       "    </tr>\n",
       "    <tr>\n",
       "      <th>4</th>\n",
       "      <td>170301IND02</td>\n",
       "      <td>0</td>\n",
       "      <td>2004</td>\n",
       "      <td>00</td>\n",
       "      <td>All countries</td>\n",
       "      <td>2</td>\n",
       "      <td>Crude materials,inedible,except fuels</td>\n",
       "      <td>1</td>\n",
       "      <td>Quantity, tonnes</td>\n",
       "      <td>2398144.2</td>\n",
       "    </tr>\n",
       "  </tbody>\n",
       "</table>\n",
       "</div>"
      ],
      "text/plain": [
       "   idindikator  mes   god IDDrzave        nDrzave  IDNSST  \\\n",
       "0  170301IND02    0  2004       00  All countries       0   \n",
       "1  170301IND02    0  2004       00  All countries       0   \n",
       "2  170301IND02    0  2004       00  All countries       1   \n",
       "3  170301IND02    0  2004       00  All countries       1   \n",
       "4  170301IND02    0  2004       00  All countries       2   \n",
       "\n",
       "                                   nNSST  IDVrPod               nVrPod  \\\n",
       "0                  Food and live animals        1     Quantity, tonnes   \n",
       "1                  Food and live animals        2  Total, USD thousand   \n",
       "2                  Beverages and tobacco        1     Quantity, tonnes   \n",
       "3                  Beverages and tobacco        2  Total, USD thousand   \n",
       "4  Crude materials,inedible,except fuels        1     Quantity, tonnes   \n",
       "\n",
       "    vrednost  \n",
       "0   823033.1  \n",
       "1   624482.5  \n",
       "2    51928.9  \n",
       "3   161663.0  \n",
       "4  2398144.2  "
      ]
     },
     "execution_count": 9,
     "metadata": {},
     "output_type": "execute_result"
    }
   ],
   "source": [
    "# again - I'm using head all the time, because I am too lazy to remember anything really...\n",
    "serbian_imports.head()"
   ]
  },
  {
   "cell_type": "code",
   "execution_count": 10,
   "metadata": {},
   "outputs": [
    {
     "data": {
      "text/html": [
       "<div>\n",
       "<style scoped>\n",
       "    .dataframe tbody tr th:only-of-type {\n",
       "        vertical-align: middle;\n",
       "    }\n",
       "\n",
       "    .dataframe tbody tr th {\n",
       "        vertical-align: top;\n",
       "    }\n",
       "\n",
       "    .dataframe thead th {\n",
       "        text-align: right;\n",
       "    }\n",
       "</style>\n",
       "<table border=\"1\" class=\"dataframe\">\n",
       "  <thead>\n",
       "    <tr style=\"text-align: right;\">\n",
       "      <th></th>\n",
       "      <th>idindikator</th>\n",
       "      <th>mes</th>\n",
       "      <th>god</th>\n",
       "      <th>IDDrzave</th>\n",
       "      <th>nDrzave</th>\n",
       "      <th>IDNSST</th>\n",
       "      <th>nNSST</th>\n",
       "      <th>IDVrPod</th>\n",
       "      <th>nVrPod</th>\n",
       "      <th>vrednost</th>\n",
       "    </tr>\n",
       "  </thead>\n",
       "  <tbody>\n",
       "    <tr>\n",
       "      <th>0</th>\n",
       "      <td>170301IND01</td>\n",
       "      <td>0</td>\n",
       "      <td>2004</td>\n",
       "      <td>00</td>\n",
       "      <td>All countries</td>\n",
       "      <td>0</td>\n",
       "      <td>Food and live animals</td>\n",
       "      <td>1</td>\n",
       "      <td>Quantity, tonnes</td>\n",
       "      <td>1121749.8</td>\n",
       "    </tr>\n",
       "    <tr>\n",
       "      <th>1</th>\n",
       "      <td>170301IND01</td>\n",
       "      <td>0</td>\n",
       "      <td>2004</td>\n",
       "      <td>00</td>\n",
       "      <td>All countries</td>\n",
       "      <td>0</td>\n",
       "      <td>Food and live animals</td>\n",
       "      <td>2</td>\n",
       "      <td>Total, USD thousand</td>\n",
       "      <td>641392.0</td>\n",
       "    </tr>\n",
       "    <tr>\n",
       "      <th>2</th>\n",
       "      <td>170301IND01</td>\n",
       "      <td>0</td>\n",
       "      <td>2004</td>\n",
       "      <td>00</td>\n",
       "      <td>All countries</td>\n",
       "      <td>1</td>\n",
       "      <td>Beverages and tobacco</td>\n",
       "      <td>1</td>\n",
       "      <td>Quantity, tonnes</td>\n",
       "      <td>115060.7</td>\n",
       "    </tr>\n",
       "    <tr>\n",
       "      <th>3</th>\n",
       "      <td>170301IND01</td>\n",
       "      <td>0</td>\n",
       "      <td>2004</td>\n",
       "      <td>00</td>\n",
       "      <td>All countries</td>\n",
       "      <td>1</td>\n",
       "      <td>Beverages and tobacco</td>\n",
       "      <td>2</td>\n",
       "      <td>Total, USD thousand</td>\n",
       "      <td>55802.2</td>\n",
       "    </tr>\n",
       "    <tr>\n",
       "      <th>4</th>\n",
       "      <td>170301IND01</td>\n",
       "      <td>0</td>\n",
       "      <td>2004</td>\n",
       "      <td>00</td>\n",
       "      <td>All countries</td>\n",
       "      <td>2</td>\n",
       "      <td>Crude materials,inedible,except fuels</td>\n",
       "      <td>1</td>\n",
       "      <td>Quantity, tonnes</td>\n",
       "      <td>583512.1</td>\n",
       "    </tr>\n",
       "  </tbody>\n",
       "</table>\n",
       "</div>"
      ],
      "text/plain": [
       "   idindikator  mes   god IDDrzave        nDrzave  IDNSST  \\\n",
       "0  170301IND01    0  2004       00  All countries       0   \n",
       "1  170301IND01    0  2004       00  All countries       0   \n",
       "2  170301IND01    0  2004       00  All countries       1   \n",
       "3  170301IND01    0  2004       00  All countries       1   \n",
       "4  170301IND01    0  2004       00  All countries       2   \n",
       "\n",
       "                                   nNSST  IDVrPod               nVrPod  \\\n",
       "0                  Food and live animals        1     Quantity, tonnes   \n",
       "1                  Food and live animals        2  Total, USD thousand   \n",
       "2                  Beverages and tobacco        1     Quantity, tonnes   \n",
       "3                  Beverages and tobacco        2  Total, USD thousand   \n",
       "4  Crude materials,inedible,except fuels        1     Quantity, tonnes   \n",
       "\n",
       "    vrednost  \n",
       "0  1121749.8  \n",
       "1   641392.0  \n",
       "2   115060.7  \n",
       "3    55802.2  \n",
       "4   583512.1  "
      ]
     },
     "execution_count": 10,
     "metadata": {},
     "output_type": "execute_result"
    }
   ],
   "source": [
    "serbian_exports.head()"
   ]
  },
  {
   "cell_type": "markdown",
   "metadata": {},
   "source": [
    "We don't need all of the columns:\n",
    "\n",
    "- the mes (month) column is always 0 which means it is reffered to the 12 month period - an entire year, so it doesn't yield us any information\n",
    "- IDDrzave (country ID) is kinda redundant as we will use the full name of the countries (nDrzave), but we will need it in order to display the world map. First, however, we'll need to transform it to a 3-letter code (also called APLHA code)\n",
    "- we're keeping IDVrPod as it gives us a nice way to filter out the quantities in kg (which we do not need) and values in dollars which we wish to keep and work on\n",
    "- vrednost - it's the value that we wish to keep (in USD)"
   ]
  },
  {
   "cell_type": "code",
   "execution_count": 11,
   "metadata": {},
   "outputs": [],
   "source": [
    "# columns to keep\n",
    "columns_to_keep = ['god','nDrzave','IDNSST','nNSST','IDDrzave','IDVrPod','vrednost']"
   ]
  },
  {
   "cell_type": "code",
   "execution_count": 12,
   "metadata": {},
   "outputs": [],
   "source": [
    "# keep only the desired columns\n",
    "serbian_imports = serbian_imports[columns_to_keep]\n",
    "serbian_exports = serbian_exports[columns_to_keep]"
   ]
  },
  {
   "cell_type": "code",
   "execution_count": 13,
   "metadata": {},
   "outputs": [
    {
     "data": {
      "text/html": [
       "<div>\n",
       "<style scoped>\n",
       "    .dataframe tbody tr th:only-of-type {\n",
       "        vertical-align: middle;\n",
       "    }\n",
       "\n",
       "    .dataframe tbody tr th {\n",
       "        vertical-align: top;\n",
       "    }\n",
       "\n",
       "    .dataframe thead th {\n",
       "        text-align: right;\n",
       "    }\n",
       "</style>\n",
       "<table border=\"1\" class=\"dataframe\">\n",
       "  <thead>\n",
       "    <tr style=\"text-align: right;\">\n",
       "      <th></th>\n",
       "      <th>god</th>\n",
       "      <th>nDrzave</th>\n",
       "      <th>IDNSST</th>\n",
       "      <th>nNSST</th>\n",
       "      <th>IDDrzave</th>\n",
       "      <th>IDVrPod</th>\n",
       "      <th>vrednost</th>\n",
       "    </tr>\n",
       "  </thead>\n",
       "  <tbody>\n",
       "    <tr>\n",
       "      <th>0</th>\n",
       "      <td>2004</td>\n",
       "      <td>All countries</td>\n",
       "      <td>0</td>\n",
       "      <td>Food and live animals</td>\n",
       "      <td>00</td>\n",
       "      <td>1</td>\n",
       "      <td>1121749.8</td>\n",
       "    </tr>\n",
       "    <tr>\n",
       "      <th>1</th>\n",
       "      <td>2004</td>\n",
       "      <td>All countries</td>\n",
       "      <td>0</td>\n",
       "      <td>Food and live animals</td>\n",
       "      <td>00</td>\n",
       "      <td>2</td>\n",
       "      <td>641392.0</td>\n",
       "    </tr>\n",
       "    <tr>\n",
       "      <th>2</th>\n",
       "      <td>2004</td>\n",
       "      <td>All countries</td>\n",
       "      <td>1</td>\n",
       "      <td>Beverages and tobacco</td>\n",
       "      <td>00</td>\n",
       "      <td>1</td>\n",
       "      <td>115060.7</td>\n",
       "    </tr>\n",
       "    <tr>\n",
       "      <th>3</th>\n",
       "      <td>2004</td>\n",
       "      <td>All countries</td>\n",
       "      <td>1</td>\n",
       "      <td>Beverages and tobacco</td>\n",
       "      <td>00</td>\n",
       "      <td>2</td>\n",
       "      <td>55802.2</td>\n",
       "    </tr>\n",
       "    <tr>\n",
       "      <th>4</th>\n",
       "      <td>2004</td>\n",
       "      <td>All countries</td>\n",
       "      <td>2</td>\n",
       "      <td>Crude materials,inedible,except fuels</td>\n",
       "      <td>00</td>\n",
       "      <td>1</td>\n",
       "      <td>583512.1</td>\n",
       "    </tr>\n",
       "  </tbody>\n",
       "</table>\n",
       "</div>"
      ],
      "text/plain": [
       "    god        nDrzave  IDNSST                                  nNSST  \\\n",
       "0  2004  All countries       0                  Food and live animals   \n",
       "1  2004  All countries       0                  Food and live animals   \n",
       "2  2004  All countries       1                  Beverages and tobacco   \n",
       "3  2004  All countries       1                  Beverages and tobacco   \n",
       "4  2004  All countries       2  Crude materials,inedible,except fuels   \n",
       "\n",
       "  IDDrzave  IDVrPod   vrednost  \n",
       "0       00        1  1121749.8  \n",
       "1       00        2   641392.0  \n",
       "2       00        1   115060.7  \n",
       "3       00        2    55802.2  \n",
       "4       00        1   583512.1  "
      ]
     },
     "execution_count": 13,
     "metadata": {},
     "output_type": "execute_result"
    }
   ],
   "source": [
    "serbian_exports.head(5)"
   ]
  },
  {
   "cell_type": "markdown",
   "metadata": {},
   "source": [
    "Now we'll rename the columns - keeping it all in English."
   ]
  },
  {
   "cell_type": "code",
   "execution_count": 14,
   "metadata": {},
   "outputs": [],
   "source": [
    "serbian_imports.rename(columns={'god':'year',\n",
    "                                'nDrzave':'country',\n",
    "                                'IDDrzave':'ccode',\n",
    "                                'nNSST':'category',\n",
    "                                'vrednost':'import_value'\n",
    "                               }, inplace=True);\n",
    "serbian_exports.rename(columns={'god':'year',\n",
    "                                'nDrzave':'country',\n",
    "                                'IDDrzave':'ccode',\n",
    "                                'nNSST':'category',\n",
    "                                'vrednost':'export_value'\n",
    "                               }, inplace=True);"
   ]
  },
  {
   "cell_type": "code",
   "execution_count": 15,
   "metadata": {},
   "outputs": [
    {
     "data": {
      "text/html": [
       "<div>\n",
       "<style scoped>\n",
       "    .dataframe tbody tr th:only-of-type {\n",
       "        vertical-align: middle;\n",
       "    }\n",
       "\n",
       "    .dataframe tbody tr th {\n",
       "        vertical-align: top;\n",
       "    }\n",
       "\n",
       "    .dataframe thead th {\n",
       "        text-align: right;\n",
       "    }\n",
       "</style>\n",
       "<table border=\"1\" class=\"dataframe\">\n",
       "  <thead>\n",
       "    <tr style=\"text-align: right;\">\n",
       "      <th></th>\n",
       "      <th>year</th>\n",
       "      <th>country</th>\n",
       "      <th>IDNSST</th>\n",
       "      <th>category</th>\n",
       "      <th>ccode</th>\n",
       "      <th>IDVrPod</th>\n",
       "      <th>export_value</th>\n",
       "    </tr>\n",
       "  </thead>\n",
       "  <tbody>\n",
       "    <tr>\n",
       "      <th>0</th>\n",
       "      <td>2004</td>\n",
       "      <td>All countries</td>\n",
       "      <td>0</td>\n",
       "      <td>Food and live animals</td>\n",
       "      <td>00</td>\n",
       "      <td>1</td>\n",
       "      <td>1121749.8</td>\n",
       "    </tr>\n",
       "    <tr>\n",
       "      <th>1</th>\n",
       "      <td>2004</td>\n",
       "      <td>All countries</td>\n",
       "      <td>0</td>\n",
       "      <td>Food and live animals</td>\n",
       "      <td>00</td>\n",
       "      <td>2</td>\n",
       "      <td>641392.0</td>\n",
       "    </tr>\n",
       "    <tr>\n",
       "      <th>2</th>\n",
       "      <td>2004</td>\n",
       "      <td>All countries</td>\n",
       "      <td>1</td>\n",
       "      <td>Beverages and tobacco</td>\n",
       "      <td>00</td>\n",
       "      <td>1</td>\n",
       "      <td>115060.7</td>\n",
       "    </tr>\n",
       "    <tr>\n",
       "      <th>3</th>\n",
       "      <td>2004</td>\n",
       "      <td>All countries</td>\n",
       "      <td>1</td>\n",
       "      <td>Beverages and tobacco</td>\n",
       "      <td>00</td>\n",
       "      <td>2</td>\n",
       "      <td>55802.2</td>\n",
       "    </tr>\n",
       "    <tr>\n",
       "      <th>4</th>\n",
       "      <td>2004</td>\n",
       "      <td>All countries</td>\n",
       "      <td>2</td>\n",
       "      <td>Crude materials,inedible,except fuels</td>\n",
       "      <td>00</td>\n",
       "      <td>1</td>\n",
       "      <td>583512.1</td>\n",
       "    </tr>\n",
       "  </tbody>\n",
       "</table>\n",
       "</div>"
      ],
      "text/plain": [
       "   year        country  IDNSST                               category ccode  \\\n",
       "0  2004  All countries       0                  Food and live animals    00   \n",
       "1  2004  All countries       0                  Food and live animals    00   \n",
       "2  2004  All countries       1                  Beverages and tobacco    00   \n",
       "3  2004  All countries       1                  Beverages and tobacco    00   \n",
       "4  2004  All countries       2  Crude materials,inedible,except fuels    00   \n",
       "\n",
       "   IDVrPod  export_value  \n",
       "0        1     1121749.8  \n",
       "1        2      641392.0  \n",
       "2        1      115060.7  \n",
       "3        2       55802.2  \n",
       "4        1      583512.1  "
      ]
     },
     "execution_count": 15,
     "metadata": {},
     "output_type": "execute_result"
    }
   ],
   "source": [
    "serbian_exports.head(5)"
   ]
  },
  {
   "cell_type": "code",
   "execution_count": 16,
   "metadata": {},
   "outputs": [
    {
     "data": {
      "text/html": [
       "<div>\n",
       "<style scoped>\n",
       "    .dataframe tbody tr th:only-of-type {\n",
       "        vertical-align: middle;\n",
       "    }\n",
       "\n",
       "    .dataframe tbody tr th {\n",
       "        vertical-align: top;\n",
       "    }\n",
       "\n",
       "    .dataframe thead th {\n",
       "        text-align: right;\n",
       "    }\n",
       "</style>\n",
       "<table border=\"1\" class=\"dataframe\">\n",
       "  <thead>\n",
       "    <tr style=\"text-align: right;\">\n",
       "      <th></th>\n",
       "      <th>year</th>\n",
       "      <th>country</th>\n",
       "      <th>IDNSST</th>\n",
       "      <th>category</th>\n",
       "      <th>ccode</th>\n",
       "      <th>IDVrPod</th>\n",
       "      <th>import_value</th>\n",
       "    </tr>\n",
       "  </thead>\n",
       "  <tbody>\n",
       "    <tr>\n",
       "      <th>0</th>\n",
       "      <td>2004</td>\n",
       "      <td>All countries</td>\n",
       "      <td>0</td>\n",
       "      <td>Food and live animals</td>\n",
       "      <td>00</td>\n",
       "      <td>1</td>\n",
       "      <td>823033.1</td>\n",
       "    </tr>\n",
       "    <tr>\n",
       "      <th>1</th>\n",
       "      <td>2004</td>\n",
       "      <td>All countries</td>\n",
       "      <td>0</td>\n",
       "      <td>Food and live animals</td>\n",
       "      <td>00</td>\n",
       "      <td>2</td>\n",
       "      <td>624482.5</td>\n",
       "    </tr>\n",
       "    <tr>\n",
       "      <th>2</th>\n",
       "      <td>2004</td>\n",
       "      <td>All countries</td>\n",
       "      <td>1</td>\n",
       "      <td>Beverages and tobacco</td>\n",
       "      <td>00</td>\n",
       "      <td>1</td>\n",
       "      <td>51928.9</td>\n",
       "    </tr>\n",
       "    <tr>\n",
       "      <th>3</th>\n",
       "      <td>2004</td>\n",
       "      <td>All countries</td>\n",
       "      <td>1</td>\n",
       "      <td>Beverages and tobacco</td>\n",
       "      <td>00</td>\n",
       "      <td>2</td>\n",
       "      <td>161663.0</td>\n",
       "    </tr>\n",
       "    <tr>\n",
       "      <th>4</th>\n",
       "      <td>2004</td>\n",
       "      <td>All countries</td>\n",
       "      <td>2</td>\n",
       "      <td>Crude materials,inedible,except fuels</td>\n",
       "      <td>00</td>\n",
       "      <td>1</td>\n",
       "      <td>2398144.2</td>\n",
       "    </tr>\n",
       "  </tbody>\n",
       "</table>\n",
       "</div>"
      ],
      "text/plain": [
       "   year        country  IDNSST                               category ccode  \\\n",
       "0  2004  All countries       0                  Food and live animals    00   \n",
       "1  2004  All countries       0                  Food and live animals    00   \n",
       "2  2004  All countries       1                  Beverages and tobacco    00   \n",
       "3  2004  All countries       1                  Beverages and tobacco    00   \n",
       "4  2004  All countries       2  Crude materials,inedible,except fuels    00   \n",
       "\n",
       "   IDVrPod  import_value  \n",
       "0        1      823033.1  \n",
       "1        2      624482.5  \n",
       "2        1       51928.9  \n",
       "3        2      161663.0  \n",
       "4        1     2398144.2  "
      ]
     },
     "execution_count": 16,
     "metadata": {},
     "output_type": "execute_result"
    }
   ],
   "source": [
    "serbian_imports.head(5)"
   ]
  },
  {
   "cell_type": "markdown",
   "metadata": {},
   "source": [
    "This is probably the most important, albeit simple step: **merging the two dataframes into one**. The only thing to remember is to always include **all** the column names that are in common."
   ]
  },
  {
   "cell_type": "code",
   "execution_count": 17,
   "metadata": {},
   "outputs": [],
   "source": [
    "commerce = pd.merge(serbian_imports,serbian_exports ,  how='left',\n",
    "                    left_on=['year','country', 'category','IDVrPod','ccode','IDNSST'],\n",
    "                    right_on =['year','country', 'category','IDVrPod','ccode','IDNSST'])"
   ]
  },
  {
   "cell_type": "code",
   "execution_count": 18,
   "metadata": {},
   "outputs": [
    {
     "data": {
      "text/html": [
       "<div>\n",
       "<style scoped>\n",
       "    .dataframe tbody tr th:only-of-type {\n",
       "        vertical-align: middle;\n",
       "    }\n",
       "\n",
       "    .dataframe tbody tr th {\n",
       "        vertical-align: top;\n",
       "    }\n",
       "\n",
       "    .dataframe thead th {\n",
       "        text-align: right;\n",
       "    }\n",
       "</style>\n",
       "<table border=\"1\" class=\"dataframe\">\n",
       "  <thead>\n",
       "    <tr style=\"text-align: right;\">\n",
       "      <th></th>\n",
       "      <th>year</th>\n",
       "      <th>country</th>\n",
       "      <th>IDNSST</th>\n",
       "      <th>category</th>\n",
       "      <th>ccode</th>\n",
       "      <th>IDVrPod</th>\n",
       "      <th>import_value</th>\n",
       "      <th>export_value</th>\n",
       "    </tr>\n",
       "  </thead>\n",
       "  <tbody>\n",
       "    <tr>\n",
       "      <th>0</th>\n",
       "      <td>2004</td>\n",
       "      <td>All countries</td>\n",
       "      <td>0</td>\n",
       "      <td>Food and live animals</td>\n",
       "      <td>00</td>\n",
       "      <td>1</td>\n",
       "      <td>823033.1</td>\n",
       "      <td>1121749.8</td>\n",
       "    </tr>\n",
       "    <tr>\n",
       "      <th>1</th>\n",
       "      <td>2004</td>\n",
       "      <td>All countries</td>\n",
       "      <td>0</td>\n",
       "      <td>Food and live animals</td>\n",
       "      <td>00</td>\n",
       "      <td>2</td>\n",
       "      <td>624482.5</td>\n",
       "      <td>641392.0</td>\n",
       "    </tr>\n",
       "    <tr>\n",
       "      <th>2</th>\n",
       "      <td>2004</td>\n",
       "      <td>All countries</td>\n",
       "      <td>1</td>\n",
       "      <td>Beverages and tobacco</td>\n",
       "      <td>00</td>\n",
       "      <td>1</td>\n",
       "      <td>51928.9</td>\n",
       "      <td>115060.7</td>\n",
       "    </tr>\n",
       "    <tr>\n",
       "      <th>3</th>\n",
       "      <td>2004</td>\n",
       "      <td>All countries</td>\n",
       "      <td>1</td>\n",
       "      <td>Beverages and tobacco</td>\n",
       "      <td>00</td>\n",
       "      <td>2</td>\n",
       "      <td>161663.0</td>\n",
       "      <td>55802.2</td>\n",
       "    </tr>\n",
       "    <tr>\n",
       "      <th>4</th>\n",
       "      <td>2004</td>\n",
       "      <td>All countries</td>\n",
       "      <td>2</td>\n",
       "      <td>Crude materials,inedible,except fuels</td>\n",
       "      <td>00</td>\n",
       "      <td>1</td>\n",
       "      <td>2398144.2</td>\n",
       "      <td>583512.1</td>\n",
       "    </tr>\n",
       "  </tbody>\n",
       "</table>\n",
       "</div>"
      ],
      "text/plain": [
       "   year        country  IDNSST                               category ccode  \\\n",
       "0  2004  All countries       0                  Food and live animals    00   \n",
       "1  2004  All countries       0                  Food and live animals    00   \n",
       "2  2004  All countries       1                  Beverages and tobacco    00   \n",
       "3  2004  All countries       1                  Beverages and tobacco    00   \n",
       "4  2004  All countries       2  Crude materials,inedible,except fuels    00   \n",
       "\n",
       "   IDVrPod  import_value  export_value  \n",
       "0        1      823033.1     1121749.8  \n",
       "1        2      624482.5      641392.0  \n",
       "2        1       51928.9      115060.7  \n",
       "3        2      161663.0       55802.2  \n",
       "4        1     2398144.2      583512.1  "
      ]
     },
     "execution_count": 18,
     "metadata": {},
     "output_type": "execute_result"
    }
   ],
   "source": [
    "commerce.head()"
   ]
  },
  {
   "cell_type": "markdown",
   "metadata": {},
   "source": [
    "Later we'll do some testing to see if the numbers correspond with the official reports issued by the Office."
   ]
  },
  {
   "cell_type": "markdown",
   "metadata": {},
   "source": [
    "Let's filter out all the rows with quantities in kg and leave only the value in dollars."
   ]
  },
  {
   "cell_type": "code",
   "execution_count": 19,
   "metadata": {},
   "outputs": [],
   "source": [
    "commerce = commerce[commerce['IDVrPod']==2]"
   ]
  },
  {
   "cell_type": "code",
   "execution_count": 20,
   "metadata": {},
   "outputs": [
    {
     "data": {
      "text/html": [
       "<div>\n",
       "<style scoped>\n",
       "    .dataframe tbody tr th:only-of-type {\n",
       "        vertical-align: middle;\n",
       "    }\n",
       "\n",
       "    .dataframe tbody tr th {\n",
       "        vertical-align: top;\n",
       "    }\n",
       "\n",
       "    .dataframe thead th {\n",
       "        text-align: right;\n",
       "    }\n",
       "</style>\n",
       "<table border=\"1\" class=\"dataframe\">\n",
       "  <thead>\n",
       "    <tr style=\"text-align: right;\">\n",
       "      <th></th>\n",
       "      <th>year</th>\n",
       "      <th>country</th>\n",
       "      <th>IDNSST</th>\n",
       "      <th>category</th>\n",
       "      <th>ccode</th>\n",
       "      <th>IDVrPod</th>\n",
       "      <th>import_value</th>\n",
       "      <th>export_value</th>\n",
       "    </tr>\n",
       "  </thead>\n",
       "  <tbody>\n",
       "    <tr>\n",
       "      <th>1</th>\n",
       "      <td>2004</td>\n",
       "      <td>All countries</td>\n",
       "      <td>0</td>\n",
       "      <td>Food and live animals</td>\n",
       "      <td>00</td>\n",
       "      <td>2</td>\n",
       "      <td>624482.5</td>\n",
       "      <td>641392.0</td>\n",
       "    </tr>\n",
       "    <tr>\n",
       "      <th>3</th>\n",
       "      <td>2004</td>\n",
       "      <td>All countries</td>\n",
       "      <td>1</td>\n",
       "      <td>Beverages and tobacco</td>\n",
       "      <td>00</td>\n",
       "      <td>2</td>\n",
       "      <td>161663.0</td>\n",
       "      <td>55802.2</td>\n",
       "    </tr>\n",
       "    <tr>\n",
       "      <th>5</th>\n",
       "      <td>2004</td>\n",
       "      <td>All countries</td>\n",
       "      <td>2</td>\n",
       "      <td>Crude materials,inedible,except fuels</td>\n",
       "      <td>00</td>\n",
       "      <td>2</td>\n",
       "      <td>332391.0</td>\n",
       "      <td>195490.4</td>\n",
       "    </tr>\n",
       "    <tr>\n",
       "      <th>7</th>\n",
       "      <td>2004</td>\n",
       "      <td>All countries</td>\n",
       "      <td>3</td>\n",
       "      <td>Mineral fuels,lubricants and related materials</td>\n",
       "      <td>00</td>\n",
       "      <td>2</td>\n",
       "      <td>1633635.3</td>\n",
       "      <td>90841.0</td>\n",
       "    </tr>\n",
       "    <tr>\n",
       "      <th>9</th>\n",
       "      <td>2004</td>\n",
       "      <td>All countries</td>\n",
       "      <td>4</td>\n",
       "      <td>Animal and vegetable oils,fats and waxes</td>\n",
       "      <td>00</td>\n",
       "      <td>2</td>\n",
       "      <td>15708.4</td>\n",
       "      <td>58874.2</td>\n",
       "    </tr>\n",
       "    <tr>\n",
       "      <th>11</th>\n",
       "      <td>2004</td>\n",
       "      <td>All countries</td>\n",
       "      <td>5</td>\n",
       "      <td>Chemicals and related products,not elsewhere s...</td>\n",
       "      <td>00</td>\n",
       "      <td>2</td>\n",
       "      <td>1409608.3</td>\n",
       "      <td>387122.8</td>\n",
       "    </tr>\n",
       "    <tr>\n",
       "      <th>13</th>\n",
       "      <td>2004</td>\n",
       "      <td>All countries</td>\n",
       "      <td>6</td>\n",
       "      <td>Manufactured goods classified chiefly by material</td>\n",
       "      <td>00</td>\n",
       "      <td>2</td>\n",
       "      <td>2088717.1</td>\n",
       "      <td>1184861.5</td>\n",
       "    </tr>\n",
       "    <tr>\n",
       "      <th>15</th>\n",
       "      <td>2004</td>\n",
       "      <td>All countries</td>\n",
       "      <td>7</td>\n",
       "      <td>Machinery and transport equipment</td>\n",
       "      <td>00</td>\n",
       "      <td>2</td>\n",
       "      <td>3381880.6</td>\n",
       "      <td>377716.3</td>\n",
       "    </tr>\n",
       "  </tbody>\n",
       "</table>\n",
       "</div>"
      ],
      "text/plain": [
       "    year        country  IDNSST  \\\n",
       "1   2004  All countries       0   \n",
       "3   2004  All countries       1   \n",
       "5   2004  All countries       2   \n",
       "7   2004  All countries       3   \n",
       "9   2004  All countries       4   \n",
       "11  2004  All countries       5   \n",
       "13  2004  All countries       6   \n",
       "15  2004  All countries       7   \n",
       "\n",
       "                                             category ccode  IDVrPod  \\\n",
       "1                               Food and live animals    00        2   \n",
       "3                               Beverages and tobacco    00        2   \n",
       "5               Crude materials,inedible,except fuels    00        2   \n",
       "7      Mineral fuels,lubricants and related materials    00        2   \n",
       "9            Animal and vegetable oils,fats and waxes    00        2   \n",
       "11  Chemicals and related products,not elsewhere s...    00        2   \n",
       "13  Manufactured goods classified chiefly by material    00        2   \n",
       "15                  Machinery and transport equipment    00        2   \n",
       "\n",
       "    import_value  export_value  \n",
       "1       624482.5      641392.0  \n",
       "3       161663.0       55802.2  \n",
       "5       332391.0      195490.4  \n",
       "7      1633635.3       90841.0  \n",
       "9        15708.4       58874.2  \n",
       "11     1409608.3      387122.8  \n",
       "13     2088717.1     1184861.5  \n",
       "15     3381880.6      377716.3  "
      ]
     },
     "execution_count": 20,
     "metadata": {},
     "output_type": "execute_result"
    }
   ],
   "source": [
    "commerce.head(8)"
   ]
  },
  {
   "cell_type": "code",
   "execution_count": 21,
   "metadata": {},
   "outputs": [],
   "source": [
    "# drop the IDVRPOD - we dont need it anymore\n",
    "commerce.drop('IDVrPod',axis=1, inplace=True)"
   ]
  },
  {
   "cell_type": "code",
   "execution_count": 22,
   "metadata": {},
   "outputs": [
    {
     "data": {
      "text/html": [
       "<div>\n",
       "<style scoped>\n",
       "    .dataframe tbody tr th:only-of-type {\n",
       "        vertical-align: middle;\n",
       "    }\n",
       "\n",
       "    .dataframe tbody tr th {\n",
       "        vertical-align: top;\n",
       "    }\n",
       "\n",
       "    .dataframe thead th {\n",
       "        text-align: right;\n",
       "    }\n",
       "</style>\n",
       "<table border=\"1\" class=\"dataframe\">\n",
       "  <thead>\n",
       "    <tr style=\"text-align: right;\">\n",
       "      <th></th>\n",
       "      <th>year</th>\n",
       "      <th>country</th>\n",
       "      <th>IDNSST</th>\n",
       "      <th>category</th>\n",
       "      <th>ccode</th>\n",
       "      <th>import_value</th>\n",
       "      <th>export_value</th>\n",
       "    </tr>\n",
       "  </thead>\n",
       "  <tbody>\n",
       "    <tr>\n",
       "      <th>1</th>\n",
       "      <td>2004</td>\n",
       "      <td>All countries</td>\n",
       "      <td>0</td>\n",
       "      <td>Food and live animals</td>\n",
       "      <td>00</td>\n",
       "      <td>624482.5</td>\n",
       "      <td>641392.0</td>\n",
       "    </tr>\n",
       "    <tr>\n",
       "      <th>3</th>\n",
       "      <td>2004</td>\n",
       "      <td>All countries</td>\n",
       "      <td>1</td>\n",
       "      <td>Beverages and tobacco</td>\n",
       "      <td>00</td>\n",
       "      <td>161663.0</td>\n",
       "      <td>55802.2</td>\n",
       "    </tr>\n",
       "  </tbody>\n",
       "</table>\n",
       "</div>"
      ],
      "text/plain": [
       "   year        country  IDNSST               category ccode  import_value  \\\n",
       "1  2004  All countries       0  Food and live animals    00      624482.5   \n",
       "3  2004  All countries       1  Beverages and tobacco    00      161663.0   \n",
       "\n",
       "   export_value  \n",
       "1      641392.0  \n",
       "3       55802.2  "
      ]
     },
     "execution_count": 22,
     "metadata": {},
     "output_type": "execute_result"
    }
   ],
   "source": [
    "commerce.head(2)"
   ]
  },
  {
   "cell_type": "markdown",
   "metadata": {},
   "source": [
    "Now... I know these values are so simple that it seems stupid, but I believe it is simpler and maybe more efficient to just include the calculatred values in the source CSv than to have it calculated each time the server is up..."
   ]
  },
  {
   "cell_type": "code",
   "execution_count": 23,
   "metadata": {},
   "outputs": [],
   "source": [
    "#add the trade balance and total exchange\n",
    "commerce['balance'] = commerce['export_value']-commerce['import_value']\n",
    "commerce['exchange'] = commerce['export_value'] + commerce['import_value']"
   ]
  },
  {
   "cell_type": "code",
   "execution_count": 24,
   "metadata": {},
   "outputs": [
    {
     "data": {
      "text/html": [
       "<div>\n",
       "<style scoped>\n",
       "    .dataframe tbody tr th:only-of-type {\n",
       "        vertical-align: middle;\n",
       "    }\n",
       "\n",
       "    .dataframe tbody tr th {\n",
       "        vertical-align: top;\n",
       "    }\n",
       "\n",
       "    .dataframe thead th {\n",
       "        text-align: right;\n",
       "    }\n",
       "</style>\n",
       "<table border=\"1\" class=\"dataframe\">\n",
       "  <thead>\n",
       "    <tr style=\"text-align: right;\">\n",
       "      <th></th>\n",
       "      <th>year</th>\n",
       "      <th>country</th>\n",
       "      <th>IDNSST</th>\n",
       "      <th>category</th>\n",
       "      <th>ccode</th>\n",
       "      <th>import_value</th>\n",
       "      <th>export_value</th>\n",
       "      <th>balance</th>\n",
       "      <th>exchange</th>\n",
       "    </tr>\n",
       "  </thead>\n",
       "  <tbody>\n",
       "    <tr>\n",
       "      <th>1</th>\n",
       "      <td>2004</td>\n",
       "      <td>All countries</td>\n",
       "      <td>0</td>\n",
       "      <td>Food and live animals</td>\n",
       "      <td>00</td>\n",
       "      <td>624482.5</td>\n",
       "      <td>641392.0</td>\n",
       "      <td>16909.5</td>\n",
       "      <td>1265874.5</td>\n",
       "    </tr>\n",
       "    <tr>\n",
       "      <th>3</th>\n",
       "      <td>2004</td>\n",
       "      <td>All countries</td>\n",
       "      <td>1</td>\n",
       "      <td>Beverages and tobacco</td>\n",
       "      <td>00</td>\n",
       "      <td>161663.0</td>\n",
       "      <td>55802.2</td>\n",
       "      <td>-105860.8</td>\n",
       "      <td>217465.2</td>\n",
       "    </tr>\n",
       "    <tr>\n",
       "      <th>5</th>\n",
       "      <td>2004</td>\n",
       "      <td>All countries</td>\n",
       "      <td>2</td>\n",
       "      <td>Crude materials,inedible,except fuels</td>\n",
       "      <td>00</td>\n",
       "      <td>332391.0</td>\n",
       "      <td>195490.4</td>\n",
       "      <td>-136900.6</td>\n",
       "      <td>527881.4</td>\n",
       "    </tr>\n",
       "    <tr>\n",
       "      <th>7</th>\n",
       "      <td>2004</td>\n",
       "      <td>All countries</td>\n",
       "      <td>3</td>\n",
       "      <td>Mineral fuels,lubricants and related materials</td>\n",
       "      <td>00</td>\n",
       "      <td>1633635.3</td>\n",
       "      <td>90841.0</td>\n",
       "      <td>-1542794.3</td>\n",
       "      <td>1724476.3</td>\n",
       "    </tr>\n",
       "    <tr>\n",
       "      <th>9</th>\n",
       "      <td>2004</td>\n",
       "      <td>All countries</td>\n",
       "      <td>4</td>\n",
       "      <td>Animal and vegetable oils,fats and waxes</td>\n",
       "      <td>00</td>\n",
       "      <td>15708.4</td>\n",
       "      <td>58874.2</td>\n",
       "      <td>43165.8</td>\n",
       "      <td>74582.6</td>\n",
       "    </tr>\n",
       "  </tbody>\n",
       "</table>\n",
       "</div>"
      ],
      "text/plain": [
       "   year        country  IDNSST  \\\n",
       "1  2004  All countries       0   \n",
       "3  2004  All countries       1   \n",
       "5  2004  All countries       2   \n",
       "7  2004  All countries       3   \n",
       "9  2004  All countries       4   \n",
       "\n",
       "                                         category ccode  import_value  \\\n",
       "1                           Food and live animals    00      624482.5   \n",
       "3                           Beverages and tobacco    00      161663.0   \n",
       "5           Crude materials,inedible,except fuels    00      332391.0   \n",
       "7  Mineral fuels,lubricants and related materials    00     1633635.3   \n",
       "9        Animal and vegetable oils,fats and waxes    00       15708.4   \n",
       "\n",
       "   export_value    balance   exchange  \n",
       "1      641392.0    16909.5  1265874.5  \n",
       "3       55802.2  -105860.8   217465.2  \n",
       "5      195490.4  -136900.6   527881.4  \n",
       "7       90841.0 -1542794.3  1724476.3  \n",
       "9       58874.2    43165.8    74582.6  "
      ]
     },
     "execution_count": 24,
     "metadata": {},
     "output_type": "execute_result"
    }
   ],
   "source": [
    "commerce.head()"
   ]
  },
  {
   "cell_type": "markdown",
   "metadata": {},
   "source": [
    "Now it is time to clean up the dataset by removing all the rows corresponding to non-countries like the EU, CEFTA, All countries and so on..."
   ]
  },
  {
   "cell_type": "code",
   "execution_count": 25,
   "metadata": {},
   "outputs": [
    {
     "data": {
      "text/plain": [
       "array(['All countries', 'Andorra', 'United Arab Emirates', 'Afghanistan',\n",
       "       'Antigua and Barbuda', 'Albania', 'Armenia',\n",
       "       'Netherlands Antilles', 'Angola', 'Argentina', 'Austria',\n",
       "       'Australia', 'Azerbaijan', 'Rep. of Bosnia and Herzegovina',\n",
       "       'Barbados', 'Bangladesh', 'Belgium', 'Burkina Faso', 'Bulgaria',\n",
       "       'Bahrain', 'Burundi', 'Benin', 'Bermuda', 'Brunei', 'Bolivia',\n",
       "       'Brazil', 'Bahamas', 'Bhutan', 'Botswana', 'Belarusa', 'Belize',\n",
       "       'Canada', 'Central African Republic', 'Congo', 'Switzerland',\n",
       "       'Ivory Coast', 'Cook Islands', 'Chile', 'Cameroon', 'China',\n",
       "       'Columbia', 'Costa Rica', 'Cuba', 'Cape Verde Islands',\n",
       "       'Christmas Island', 'Cyprus', 'Czech Republic', 'Germany',\n",
       "       'Djibouti', 'Denmark', 'Dominica', 'Dominican Republic', 'Algeria',\n",
       "       'Ecuador', 'Estonia', 'Egypt', 'Eritrea', 'Spain', 'Ethiopia',\n",
       "       'European Monetary Union', 'Finland', 'Falkland Islands',\n",
       "       'Faroe Islands', 'France', 'Gabon', 'United Kingdom', 'Grenada',\n",
       "       'Georgia', 'French Guiana', 'Ghana', 'Gibraltar', 'Greenland',\n",
       "       'Gambia', 'Guinea', 'Equatorial Guinea', 'Greece',\n",
       "       'South Georg.and the Sandwich I', 'Guatemala', 'Guam', 'Hong Kong',\n",
       "       'Honduras', 'Republic of Croatia', 'Haiti', 'Hungary', 'Indonesia',\n",
       "       'Ireland', 'Israel', 'India', 'British Indian Ocean Territory',\n",
       "       'Iraq', 'Iran', 'Iceland', 'Italy', 'Jamaica', 'Jordan', 'Japan',\n",
       "       'Kenya', 'Kyrgyzstan', 'Cambodia', 'Kiribati', 'Comoro Islands',\n",
       "       'Saint Kitts and Nevis', 'Korea, Dem. Republic of', 'Korea',\n",
       "       'Kuwait', 'Cayman Islands', 'Kazakhstan', 'Laos', 'Lebanon',\n",
       "       'Liechtenstein', 'Sri Lanka', 'Liberia', 'Lithuania', 'Luxembourg',\n",
       "       'Latvia', 'Libyan Arab Jamahiriya', 'Morocco', 'Monaco', 'Moldova',\n",
       "       'Madagascar', 'Marshall Islands', 'Republic of North Macedonia',\n",
       "       'Mali', 'Burma', 'Mongolia', 'Macau', 'Northern Marina Islands',\n",
       "       'Mauritania', 'Malta', 'Mauritius', 'Maldives', 'Malawi', 'Mexico',\n",
       "       'Malaysia', 'Mozambique', 'Namibia', 'New Caledonia', 'Niger',\n",
       "       'Nigeria', 'Nicaragua', 'Netherlands', 'Norway', 'Nepal', 'Nauru',\n",
       "       'Niue', 'New Zealand', 'Oman', 'Panama', 'Peru',\n",
       "       'French Polynesia', 'Papua New Guinea', 'Philippines', 'Pakistan',\n",
       "       'Poland', 'Pitcairn', 'Puerto Rico', 'Portugal, Republic of',\n",
       "       'Qatar', 'Reunion', 'Romania', 'Russian Federation', 'Rwanda',\n",
       "       'Saudi Arabia', 'Seychelles', 'Sudan', 'Sweden', 'Singapore',\n",
       "       'Saint Helena', 'Republic of Slovenia',\n",
       "       'Svalbard and Ian Mayen Islands', 'Slovakia', 'Sierra Leone',\n",
       "       'San Marino', 'Senegal', 'Somalia', 'Suriname',\n",
       "       'Sao Tome and Principe', 'El Salvador', 'Syrian Arab Republic',\n",
       "       'Swaziland', 'Turks and Caicos Islands', 'Chad', 'Togo',\n",
       "       'Thailand', 'Tajikistan', 'Tokelau', 'Turkmenistan', 'Tunisia',\n",
       "       'Tonga', 'East Timor', 'Turkey, Republic of',\n",
       "       'Trinidad and Tobago', 'Tuvalu', 'Taiwan, Chinese Province',\n",
       "       'Tanzania, United Republic of', 'Ukraine', 'Uganda', 'USA',\n",
       "       'Uruguay', 'Uzbekistan', 'Vatican-Holy See', 'Venezuela',\n",
       "       'British Virgin Islands', 'Virgin Isl. of the United Stat',\n",
       "       'Vietnam', 'Vanuatu', 'Samoa', 'Palestine Liberation Organisat',\n",
       "       'Yemen', 'Mayotte', 'South Africa', 'Zambia', 'Zaire', 'Zimbabwe',\n",
       "       'American Samoa', 'Aruba', 'Cocos (Keeling) Islands',\n",
       "       'Congo,Democratic Republic of', 'Guyana', 'Lesotho', 'Martinique',\n",
       "       'Montserrat', 'Occupied Palestinian Territory', 'Palaos',\n",
       "       'Saint Vincent and Grenadines', 'Bouvet', 'France, Metropolitan',\n",
       "       'Guadeloupe', 'Republic of Montenegro', 'Paraguay',\n",
       "       'South French Territory', 'Fiji', 'Micronesia', 'Saint Lucia',\n",
       "       'Timor-Leste, D Republic', 'Solomon Islands', 'Antartic',\n",
       "       'Guinea Bissau', 'Saint Pierre and Miquelon',\n",
       "       'Heard and McDonald Islands', 'European Union (28)',\n",
       "       'CEFTA countries', 'Countries not specified in extra',\n",
       "       'South Sudan', 'Sint Maarten(Duch part)', 'Saint Barthelemy',\n",
       "       'Curacao', 'US minor outlying islands',\n",
       "       'Wallis and Futuna Islands', 'Mann islands'], dtype=object)"
      ]
     },
     "execution_count": 25,
     "metadata": {},
     "output_type": "execute_result"
    }
   ],
   "source": [
    "commerce.country.unique()"
   ]
  },
  {
   "cell_type": "code",
   "execution_count": 26,
   "metadata": {},
   "outputs": [],
   "source": [
    "# this is manual labour, visual incpection... :(\n",
    "not_countries = [\n",
    "    'All countries',\n",
    "    'CEFTA countries',\n",
    "    'Countries not specified in extra',\n",
    "    'European Monetary Union',\n",
    "    'European Union (28)'   \n",
    "    ]"
   ]
  },
  {
   "cell_type": "code",
   "execution_count": 27,
   "metadata": {},
   "outputs": [],
   "source": [
    "commerce = commerce[commerce['country'].isin(not_countries)==False]"
   ]
  },
  {
   "cell_type": "code",
   "execution_count": 28,
   "metadata": {},
   "outputs": [
    {
     "data": {
      "text/html": [
       "<div>\n",
       "<style scoped>\n",
       "    .dataframe tbody tr th:only-of-type {\n",
       "        vertical-align: middle;\n",
       "    }\n",
       "\n",
       "    .dataframe tbody tr th {\n",
       "        vertical-align: top;\n",
       "    }\n",
       "\n",
       "    .dataframe thead th {\n",
       "        text-align: right;\n",
       "    }\n",
       "</style>\n",
       "<table border=\"1\" class=\"dataframe\">\n",
       "  <thead>\n",
       "    <tr style=\"text-align: right;\">\n",
       "      <th></th>\n",
       "      <th>year</th>\n",
       "      <th>country</th>\n",
       "      <th>IDNSST</th>\n",
       "      <th>category</th>\n",
       "      <th>ccode</th>\n",
       "      <th>import_value</th>\n",
       "      <th>export_value</th>\n",
       "      <th>balance</th>\n",
       "      <th>exchange</th>\n",
       "    </tr>\n",
       "  </thead>\n",
       "  <tbody>\n",
       "    <tr>\n",
       "      <th>21</th>\n",
       "      <td>2004</td>\n",
       "      <td>Andorra</td>\n",
       "      <td>0</td>\n",
       "      <td>Food and live animals</td>\n",
       "      <td>AD</td>\n",
       "      <td>27.0</td>\n",
       "      <td>0.0</td>\n",
       "      <td>-27.0</td>\n",
       "      <td>27.0</td>\n",
       "    </tr>\n",
       "    <tr>\n",
       "      <th>23</th>\n",
       "      <td>2004</td>\n",
       "      <td>Andorra</td>\n",
       "      <td>5</td>\n",
       "      <td>Chemicals and related products,not elsewhere s...</td>\n",
       "      <td>AD</td>\n",
       "      <td>0.1</td>\n",
       "      <td>0.0</td>\n",
       "      <td>-0.1</td>\n",
       "      <td>0.1</td>\n",
       "    </tr>\n",
       "    <tr>\n",
       "      <th>25</th>\n",
       "      <td>2004</td>\n",
       "      <td>Andorra</td>\n",
       "      <td>6</td>\n",
       "      <td>Manufactured goods classified chiefly by material</td>\n",
       "      <td>AD</td>\n",
       "      <td>4.8</td>\n",
       "      <td>0.0</td>\n",
       "      <td>-4.8</td>\n",
       "      <td>4.8</td>\n",
       "    </tr>\n",
       "    <tr>\n",
       "      <th>27</th>\n",
       "      <td>2004</td>\n",
       "      <td>Andorra</td>\n",
       "      <td>7</td>\n",
       "      <td>Machinery and transport equipment</td>\n",
       "      <td>AD</td>\n",
       "      <td>24.4</td>\n",
       "      <td>0.0</td>\n",
       "      <td>-24.4</td>\n",
       "      <td>24.4</td>\n",
       "    </tr>\n",
       "    <tr>\n",
       "      <th>29</th>\n",
       "      <td>2004</td>\n",
       "      <td>Andorra</td>\n",
       "      <td>8</td>\n",
       "      <td>Miscellaneous manufactured articles</td>\n",
       "      <td>AD</td>\n",
       "      <td>120.8</td>\n",
       "      <td>0.0</td>\n",
       "      <td>-120.8</td>\n",
       "      <td>120.8</td>\n",
       "    </tr>\n",
       "  </tbody>\n",
       "</table>\n",
       "</div>"
      ],
      "text/plain": [
       "    year  country  IDNSST                                           category  \\\n",
       "21  2004  Andorra       0                              Food and live animals   \n",
       "23  2004  Andorra       5  Chemicals and related products,not elsewhere s...   \n",
       "25  2004  Andorra       6  Manufactured goods classified chiefly by material   \n",
       "27  2004  Andorra       7                  Machinery and transport equipment   \n",
       "29  2004  Andorra       8                Miscellaneous manufactured articles   \n",
       "\n",
       "   ccode  import_value  export_value  balance  exchange  \n",
       "21    AD          27.0           0.0    -27.0      27.0  \n",
       "23    AD           0.1           0.0     -0.1       0.1  \n",
       "25    AD           4.8           0.0     -4.8       4.8  \n",
       "27    AD          24.4           0.0    -24.4      24.4  \n",
       "29    AD         120.8           0.0   -120.8     120.8  "
      ]
     },
     "execution_count": 28,
     "metadata": {},
     "output_type": "execute_result"
    }
   ],
   "source": [
    "commerce.head()"
   ]
  },
  {
   "cell_type": "markdown",
   "metadata": {},
   "source": [
    "Finally, let's convert the country codes and get the three-letter representation. Enter pycountry."
   ]
  },
  {
   "cell_type": "code",
   "execution_count": 29,
   "metadata": {},
   "outputs": [],
   "source": [
    "import pycountry\n",
    "def convert_ccode(code):\n",
    "    try:\n",
    "        country = pycountry.countries.get(alpha_2=code)\n",
    "        return country.alpha_3\n",
    "    except AttributeError:\n",
    "        return None"
   ]
  },
  {
   "cell_type": "code",
   "execution_count": 30,
   "metadata": {},
   "outputs": [
    {
     "data": {
      "text/plain": [
       "'DEU'"
      ]
     },
     "execution_count": 30,
     "metadata": {},
     "output_type": "execute_result"
    }
   ],
   "source": [
    "convert_ccode('DE')"
   ]
  },
  {
   "cell_type": "code",
   "execution_count": 31,
   "metadata": {},
   "outputs": [
    {
     "data": {
      "text/plain": [
       "'ITA'"
      ]
     },
     "execution_count": 31,
     "metadata": {},
     "output_type": "execute_result"
    }
   ],
   "source": [
    "convert_ccode('IT')"
   ]
  },
  {
   "cell_type": "markdown",
   "metadata": {},
   "source": [
    "You get the idea..."
   ]
  },
  {
   "cell_type": "code",
   "execution_count": 32,
   "metadata": {},
   "outputs": [],
   "source": [
    "# fix country code\n",
    "commerce['ccode']=commerce['ccode'].apply(convert_ccode)"
   ]
  },
  {
   "cell_type": "code",
   "execution_count": 33,
   "metadata": {},
   "outputs": [
    {
     "data": {
      "text/html": [
       "<div>\n",
       "<style scoped>\n",
       "    .dataframe tbody tr th:only-of-type {\n",
       "        vertical-align: middle;\n",
       "    }\n",
       "\n",
       "    .dataframe tbody tr th {\n",
       "        vertical-align: top;\n",
       "    }\n",
       "\n",
       "    .dataframe thead th {\n",
       "        text-align: right;\n",
       "    }\n",
       "</style>\n",
       "<table border=\"1\" class=\"dataframe\">\n",
       "  <thead>\n",
       "    <tr style=\"text-align: right;\">\n",
       "      <th></th>\n",
       "      <th>year</th>\n",
       "      <th>country</th>\n",
       "      <th>IDNSST</th>\n",
       "      <th>category</th>\n",
       "      <th>ccode</th>\n",
       "      <th>import_value</th>\n",
       "      <th>export_value</th>\n",
       "      <th>balance</th>\n",
       "      <th>exchange</th>\n",
       "    </tr>\n",
       "  </thead>\n",
       "  <tbody>\n",
       "    <tr>\n",
       "      <th>829</th>\n",
       "      <td>2004</td>\n",
       "      <td>Ghana</td>\n",
       "      <td>8</td>\n",
       "      <td>Miscellaneous manufactured articles</td>\n",
       "      <td>GHA</td>\n",
       "      <td>1.1</td>\n",
       "      <td>29.8</td>\n",
       "      <td>28.7</td>\n",
       "      <td>30.9</td>\n",
       "    </tr>\n",
       "    <tr>\n",
       "      <th>22093</th>\n",
       "      <td>2013</td>\n",
       "      <td>Armenia</td>\n",
       "      <td>5</td>\n",
       "      <td>Chemicals and related products,not elsewhere s...</td>\n",
       "      <td>ARM</td>\n",
       "      <td>0.0</td>\n",
       "      <td>604.1</td>\n",
       "      <td>604.1</td>\n",
       "      <td>604.1</td>\n",
       "    </tr>\n",
       "    <tr>\n",
       "      <th>23119</th>\n",
       "      <td>2013</td>\n",
       "      <td>India</td>\n",
       "      <td>5</td>\n",
       "      <td>Chemicals and related products,not elsewhere s...</td>\n",
       "      <td>IND</td>\n",
       "      <td>50814.7</td>\n",
       "      <td>2418.2</td>\n",
       "      <td>-48396.5</td>\n",
       "      <td>53232.9</td>\n",
       "    </tr>\n",
       "    <tr>\n",
       "      <th>11219</th>\n",
       "      <td>2008</td>\n",
       "      <td>Mozambique</td>\n",
       "      <td>2</td>\n",
       "      <td>Crude materials,inedible,except fuels</td>\n",
       "      <td>MOZ</td>\n",
       "      <td>352.2</td>\n",
       "      <td>0.0</td>\n",
       "      <td>-352.2</td>\n",
       "      <td>352.2</td>\n",
       "    </tr>\n",
       "    <tr>\n",
       "      <th>30213</th>\n",
       "      <td>2016</td>\n",
       "      <td>Belgium</td>\n",
       "      <td>8</td>\n",
       "      <td>Miscellaneous manufactured articles</td>\n",
       "      <td>BEL</td>\n",
       "      <td>8531.9</td>\n",
       "      <td>15144.5</td>\n",
       "      <td>6612.6</td>\n",
       "      <td>23676.4</td>\n",
       "    </tr>\n",
       "    <tr>\n",
       "      <th>37077</th>\n",
       "      <td>2018</td>\n",
       "      <td>Luxembourg</td>\n",
       "      <td>7</td>\n",
       "      <td>Machinery and transport equipment</td>\n",
       "      <td>LUX</td>\n",
       "      <td>1880.3</td>\n",
       "      <td>2042.5</td>\n",
       "      <td>162.2</td>\n",
       "      <td>3922.8</td>\n",
       "    </tr>\n",
       "    <tr>\n",
       "      <th>3809</th>\n",
       "      <td>2005</td>\n",
       "      <td>Mali</td>\n",
       "      <td>3</td>\n",
       "      <td>Mineral fuels,lubricants and related materials</td>\n",
       "      <td>MLI</td>\n",
       "      <td>0.6</td>\n",
       "      <td>0.0</td>\n",
       "      <td>-0.6</td>\n",
       "      <td>0.6</td>\n",
       "    </tr>\n",
       "    <tr>\n",
       "      <th>1081</th>\n",
       "      <td>2004</td>\n",
       "      <td>Italy</td>\n",
       "      <td>0</td>\n",
       "      <td>Food and live animals</td>\n",
       "      <td>ITA</td>\n",
       "      <td>26578.7</td>\n",
       "      <td>125489.4</td>\n",
       "      <td>98910.7</td>\n",
       "      <td>152068.1</td>\n",
       "    </tr>\n",
       "    <tr>\n",
       "      <th>13311</th>\n",
       "      <td>2009</td>\n",
       "      <td>Korea</td>\n",
       "      <td>6</td>\n",
       "      <td>Manufactured goods classified chiefly by material</td>\n",
       "      <td>KOR</td>\n",
       "      <td>5461.0</td>\n",
       "      <td>24.6</td>\n",
       "      <td>-5436.4</td>\n",
       "      <td>5485.6</td>\n",
       "    </tr>\n",
       "    <tr>\n",
       "      <th>21039</th>\n",
       "      <td>2012</td>\n",
       "      <td>Malta</td>\n",
       "      <td>1</td>\n",
       "      <td>Beverages and tobacco</td>\n",
       "      <td>MLT</td>\n",
       "      <td>0.0</td>\n",
       "      <td>89.1</td>\n",
       "      <td>89.1</td>\n",
       "      <td>89.1</td>\n",
       "    </tr>\n",
       "  </tbody>\n",
       "</table>\n",
       "</div>"
      ],
      "text/plain": [
       "       year     country  IDNSST  \\\n",
       "829    2004       Ghana       8   \n",
       "22093  2013     Armenia       5   \n",
       "23119  2013       India       5   \n",
       "11219  2008  Mozambique       2   \n",
       "30213  2016     Belgium       8   \n",
       "37077  2018  Luxembourg       7   \n",
       "3809   2005        Mali       3   \n",
       "1081   2004       Italy       0   \n",
       "13311  2009       Korea       6   \n",
       "21039  2012       Malta       1   \n",
       "\n",
       "                                                category ccode  import_value  \\\n",
       "829                  Miscellaneous manufactured articles   GHA           1.1   \n",
       "22093  Chemicals and related products,not elsewhere s...   ARM           0.0   \n",
       "23119  Chemicals and related products,not elsewhere s...   IND       50814.7   \n",
       "11219              Crude materials,inedible,except fuels   MOZ         352.2   \n",
       "30213                Miscellaneous manufactured articles   BEL        8531.9   \n",
       "37077                  Machinery and transport equipment   LUX        1880.3   \n",
       "3809      Mineral fuels,lubricants and related materials   MLI           0.6   \n",
       "1081                               Food and live animals   ITA       26578.7   \n",
       "13311  Manufactured goods classified chiefly by material   KOR        5461.0   \n",
       "21039                              Beverages and tobacco   MLT           0.0   \n",
       "\n",
       "       export_value  balance  exchange  \n",
       "829            29.8     28.7      30.9  \n",
       "22093         604.1    604.1     604.1  \n",
       "23119        2418.2 -48396.5   53232.9  \n",
       "11219           0.0   -352.2     352.2  \n",
       "30213       15144.5   6612.6   23676.4  \n",
       "37077        2042.5    162.2    3922.8  \n",
       "3809            0.0     -0.6       0.6  \n",
       "1081       125489.4  98910.7  152068.1  \n",
       "13311          24.6  -5436.4    5485.6  \n",
       "21039          89.1     89.1      89.1  "
      ]
     },
     "execution_count": 33,
     "metadata": {},
     "output_type": "execute_result"
    }
   ],
   "source": [
    "commerce.sample(10)"
   ]
  },
  {
   "cell_type": "code",
   "execution_count": 34,
   "metadata": {},
   "outputs": [
    {
     "data": {
      "text/plain": [
       "year            False\n",
       "country         False\n",
       "IDNSST          False\n",
       "category        False\n",
       "ccode            True\n",
       "import_value    False\n",
       "export_value    False\n",
       "balance         False\n",
       "exchange        False\n",
       "dtype: bool"
      ]
     },
     "execution_count": 34,
     "metadata": {},
     "output_type": "execute_result"
    }
   ],
   "source": [
    "# Let's check if any ccode has not exactly 3 characters:\n",
    "commerce.isnull().any()"
   ]
  },
  {
   "cell_type": "code",
   "execution_count": 35,
   "metadata": {},
   "outputs": [],
   "source": [
    "# OK, so it is the ccode... Let's investigate.\n",
    "nan_rows = commerce[commerce['ccode'].isnull()]"
   ]
  },
  {
   "cell_type": "code",
   "execution_count": 36,
   "metadata": {},
   "outputs": [
    {
     "data": {
      "text/html": [
       "<div>\n",
       "<style scoped>\n",
       "    .dataframe tbody tr th:only-of-type {\n",
       "        vertical-align: middle;\n",
       "    }\n",
       "\n",
       "    .dataframe tbody tr th {\n",
       "        vertical-align: top;\n",
       "    }\n",
       "\n",
       "    .dataframe thead th {\n",
       "        text-align: right;\n",
       "    }\n",
       "</style>\n",
       "<table border=\"1\" class=\"dataframe\">\n",
       "  <thead>\n",
       "    <tr style=\"text-align: right;\">\n",
       "      <th></th>\n",
       "      <th>year</th>\n",
       "      <th>country</th>\n",
       "      <th>IDNSST</th>\n",
       "      <th>category</th>\n",
       "      <th>ccode</th>\n",
       "      <th>import_value</th>\n",
       "      <th>export_value</th>\n",
       "      <th>balance</th>\n",
       "      <th>exchange</th>\n",
       "    </tr>\n",
       "  </thead>\n",
       "  <tbody>\n",
       "    <tr>\n",
       "      <th>97</th>\n",
       "      <td>2004</td>\n",
       "      <td>Netherlands Antilles</td>\n",
       "      <td>7</td>\n",
       "      <td>Machinery and transport equipment</td>\n",
       "      <td>None</td>\n",
       "      <td>0.0</td>\n",
       "      <td>0.1</td>\n",
       "      <td>0.1</td>\n",
       "      <td>0.1</td>\n",
       "    </tr>\n",
       "    <tr>\n",
       "      <th>1521</th>\n",
       "      <td>2004</td>\n",
       "      <td>Namibia</td>\n",
       "      <td>0</td>\n",
       "      <td>Food and live animals</td>\n",
       "      <td>None</td>\n",
       "      <td>293.4</td>\n",
       "      <td>0.0</td>\n",
       "      <td>-293.4</td>\n",
       "      <td>293.4</td>\n",
       "    </tr>\n",
       "    <tr>\n",
       "      <th>1523</th>\n",
       "      <td>2004</td>\n",
       "      <td>Namibia</td>\n",
       "      <td>2</td>\n",
       "      <td>Crude materials,inedible,except fuels</td>\n",
       "      <td>None</td>\n",
       "      <td>2.9</td>\n",
       "      <td>0.0</td>\n",
       "      <td>-2.9</td>\n",
       "      <td>2.9</td>\n",
       "    </tr>\n",
       "    <tr>\n",
       "      <th>1525</th>\n",
       "      <td>2004</td>\n",
       "      <td>Namibia</td>\n",
       "      <td>6</td>\n",
       "      <td>Manufactured goods classified chiefly by material</td>\n",
       "      <td>None</td>\n",
       "      <td>0.0</td>\n",
       "      <td>3.0</td>\n",
       "      <td>3.0</td>\n",
       "      <td>3.0</td>\n",
       "    </tr>\n",
       "    <tr>\n",
       "      <th>1527</th>\n",
       "      <td>2004</td>\n",
       "      <td>Namibia</td>\n",
       "      <td>7</td>\n",
       "      <td>Machinery and transport equipment</td>\n",
       "      <td>None</td>\n",
       "      <td>2.8</td>\n",
       "      <td>2.9</td>\n",
       "      <td>0.1</td>\n",
       "      <td>5.7</td>\n",
       "    </tr>\n",
       "    <tr>\n",
       "      <th>1529</th>\n",
       "      <td>2004</td>\n",
       "      <td>Namibia</td>\n",
       "      <td>8</td>\n",
       "      <td>Miscellaneous manufactured articles</td>\n",
       "      <td>None</td>\n",
       "      <td>2.7</td>\n",
       "      <td>8.8</td>\n",
       "      <td>6.1</td>\n",
       "      <td>11.5</td>\n",
       "    </tr>\n",
       "    <tr>\n",
       "      <th>1531</th>\n",
       "      <td>2004</td>\n",
       "      <td>Namibia</td>\n",
       "      <td>9</td>\n",
       "      <td>SMTK Rev. 4 Commodities n.e.s. in the SITC Rev. 4</td>\n",
       "      <td>None</td>\n",
       "      <td>0.0</td>\n",
       "      <td>1.4</td>\n",
       "      <td>1.4</td>\n",
       "      <td>1.4</td>\n",
       "    </tr>\n",
       "    <tr>\n",
       "      <th>2131</th>\n",
       "      <td>2004</td>\n",
       "      <td>East Timor</td>\n",
       "      <td>6</td>\n",
       "      <td>Manufactured goods classified chiefly by material</td>\n",
       "      <td>None</td>\n",
       "      <td>0.1</td>\n",
       "      <td>0.0</td>\n",
       "      <td>-0.1</td>\n",
       "      <td>0.1</td>\n",
       "    </tr>\n",
       "    <tr>\n",
       "      <th>2317</th>\n",
       "      <td>2004</td>\n",
       "      <td>Palestine Liberation Organisat</td>\n",
       "      <td>2</td>\n",
       "      <td>Crude materials,inedible,except fuels</td>\n",
       "      <td>None</td>\n",
       "      <td>0.0</td>\n",
       "      <td>19.0</td>\n",
       "      <td>19.0</td>\n",
       "      <td>19.0</td>\n",
       "    </tr>\n",
       "    <tr>\n",
       "      <th>2353</th>\n",
       "      <td>2004</td>\n",
       "      <td>Zaire</td>\n",
       "      <td>0</td>\n",
       "      <td>Food and live animals</td>\n",
       "      <td>None</td>\n",
       "      <td>0.6</td>\n",
       "      <td>30.8</td>\n",
       "      <td>30.2</td>\n",
       "      <td>31.4</td>\n",
       "    </tr>\n",
       "    <tr>\n",
       "      <th>2355</th>\n",
       "      <td>2004</td>\n",
       "      <td>Zaire</td>\n",
       "      <td>8</td>\n",
       "      <td>Miscellaneous manufactured articles</td>\n",
       "      <td>None</td>\n",
       "      <td>0.1</td>\n",
       "      <td>0.0</td>\n",
       "      <td>-0.1</td>\n",
       "      <td>0.1</td>\n",
       "    </tr>\n",
       "    <tr>\n",
       "      <th>2455</th>\n",
       "      <td>2005</td>\n",
       "      <td>Netherlands Antilles</td>\n",
       "      <td>0</td>\n",
       "      <td>Food and live animals</td>\n",
       "      <td>None</td>\n",
       "      <td>39.2</td>\n",
       "      <td>0.0</td>\n",
       "      <td>-39.2</td>\n",
       "      <td>39.2</td>\n",
       "    </tr>\n",
       "    <tr>\n",
       "      <th>2457</th>\n",
       "      <td>2005</td>\n",
       "      <td>Netherlands Antilles</td>\n",
       "      <td>5</td>\n",
       "      <td>Chemicals and related products,not elsewhere s...</td>\n",
       "      <td>None</td>\n",
       "      <td>0.0</td>\n",
       "      <td>58.2</td>\n",
       "      <td>58.2</td>\n",
       "      <td>58.2</td>\n",
       "    </tr>\n",
       "    <tr>\n",
       "      <th>2459</th>\n",
       "      <td>2005</td>\n",
       "      <td>Netherlands Antilles</td>\n",
       "      <td>6</td>\n",
       "      <td>Manufactured goods classified chiefly by material</td>\n",
       "      <td>None</td>\n",
       "      <td>0.0</td>\n",
       "      <td>0.2</td>\n",
       "      <td>0.2</td>\n",
       "      <td>0.2</td>\n",
       "    </tr>\n",
       "    <tr>\n",
       "      <th>2461</th>\n",
       "      <td>2005</td>\n",
       "      <td>Netherlands Antilles</td>\n",
       "      <td>8</td>\n",
       "      <td>Miscellaneous manufactured articles</td>\n",
       "      <td>None</td>\n",
       "      <td>7.3</td>\n",
       "      <td>11.2</td>\n",
       "      <td>3.9</td>\n",
       "      <td>18.5</td>\n",
       "    </tr>\n",
       "    <tr>\n",
       "      <th>3927</th>\n",
       "      <td>2005</td>\n",
       "      <td>Namibia</td>\n",
       "      <td>0</td>\n",
       "      <td>Food and live animals</td>\n",
       "      <td>None</td>\n",
       "      <td>434.4</td>\n",
       "      <td>4.9</td>\n",
       "      <td>-429.5</td>\n",
       "      <td>439.3</td>\n",
       "    </tr>\n",
       "    <tr>\n",
       "      <th>3929</th>\n",
       "      <td>2005</td>\n",
       "      <td>Namibia</td>\n",
       "      <td>2</td>\n",
       "      <td>Crude materials,inedible,except fuels</td>\n",
       "      <td>None</td>\n",
       "      <td>3.6</td>\n",
       "      <td>0.0</td>\n",
       "      <td>-3.6</td>\n",
       "      <td>3.6</td>\n",
       "    </tr>\n",
       "    <tr>\n",
       "      <th>3931</th>\n",
       "      <td>2005</td>\n",
       "      <td>Namibia</td>\n",
       "      <td>6</td>\n",
       "      <td>Manufactured goods classified chiefly by material</td>\n",
       "      <td>None</td>\n",
       "      <td>2.2</td>\n",
       "      <td>40.2</td>\n",
       "      <td>38.0</td>\n",
       "      <td>42.4</td>\n",
       "    </tr>\n",
       "    <tr>\n",
       "      <th>3933</th>\n",
       "      <td>2005</td>\n",
       "      <td>Namibia</td>\n",
       "      <td>8</td>\n",
       "      <td>Miscellaneous manufactured articles</td>\n",
       "      <td>None</td>\n",
       "      <td>43.4</td>\n",
       "      <td>80.6</td>\n",
       "      <td>37.2</td>\n",
       "      <td>124.0</td>\n",
       "    </tr>\n",
       "    <tr>\n",
       "      <th>4495</th>\n",
       "      <td>2005</td>\n",
       "      <td>East Timor</td>\n",
       "      <td>5</td>\n",
       "      <td>Chemicals and related products,not elsewhere s...</td>\n",
       "      <td>None</td>\n",
       "      <td>0.2</td>\n",
       "      <td>0.0</td>\n",
       "      <td>-0.2</td>\n",
       "      <td>0.2</td>\n",
       "    </tr>\n",
       "    <tr>\n",
       "      <th>4497</th>\n",
       "      <td>2005</td>\n",
       "      <td>East Timor</td>\n",
       "      <td>6</td>\n",
       "      <td>Manufactured goods classified chiefly by material</td>\n",
       "      <td>None</td>\n",
       "      <td>1.5</td>\n",
       "      <td>0.0</td>\n",
       "      <td>-1.5</td>\n",
       "      <td>1.5</td>\n",
       "    </tr>\n",
       "    <tr>\n",
       "      <th>4499</th>\n",
       "      <td>2005</td>\n",
       "      <td>East Timor</td>\n",
       "      <td>7</td>\n",
       "      <td>Machinery and transport equipment</td>\n",
       "      <td>None</td>\n",
       "      <td>2.9</td>\n",
       "      <td>0.0</td>\n",
       "      <td>-2.9</td>\n",
       "      <td>2.9</td>\n",
       "    </tr>\n",
       "    <tr>\n",
       "      <th>4501</th>\n",
       "      <td>2005</td>\n",
       "      <td>East Timor</td>\n",
       "      <td>8</td>\n",
       "      <td>Miscellaneous manufactured articles</td>\n",
       "      <td>None</td>\n",
       "      <td>0.3</td>\n",
       "      <td>0.0</td>\n",
       "      <td>-0.3</td>\n",
       "      <td>0.3</td>\n",
       "    </tr>\n",
       "    <tr>\n",
       "      <th>4817</th>\n",
       "      <td>2006</td>\n",
       "      <td>Netherlands Antilles</td>\n",
       "      <td>6</td>\n",
       "      <td>Manufactured goods classified chiefly by material</td>\n",
       "      <td>None</td>\n",
       "      <td>0.0</td>\n",
       "      <td>54.8</td>\n",
       "      <td>54.8</td>\n",
       "      <td>54.8</td>\n",
       "    </tr>\n",
       "    <tr>\n",
       "      <th>4819</th>\n",
       "      <td>2006</td>\n",
       "      <td>Netherlands Antilles</td>\n",
       "      <td>7</td>\n",
       "      <td>Machinery and transport equipment</td>\n",
       "      <td>None</td>\n",
       "      <td>0.0</td>\n",
       "      <td>2.2</td>\n",
       "      <td>2.2</td>\n",
       "      <td>2.2</td>\n",
       "    </tr>\n",
       "    <tr>\n",
       "      <th>4821</th>\n",
       "      <td>2006</td>\n",
       "      <td>Netherlands Antilles</td>\n",
       "      <td>8</td>\n",
       "      <td>Miscellaneous manufactured articles</td>\n",
       "      <td>None</td>\n",
       "      <td>0.1</td>\n",
       "      <td>0.0</td>\n",
       "      <td>-0.1</td>\n",
       "      <td>0.1</td>\n",
       "    </tr>\n",
       "    <tr>\n",
       "      <th>5481</th>\n",
       "      <td>2006</td>\n",
       "      <td>France, Metropolitan</td>\n",
       "      <td>7</td>\n",
       "      <td>Machinery and transport equipment</td>\n",
       "      <td>None</td>\n",
       "      <td>0.0</td>\n",
       "      <td>3.1</td>\n",
       "      <td>3.1</td>\n",
       "      <td>3.1</td>\n",
       "    </tr>\n",
       "    <tr>\n",
       "      <th>6293</th>\n",
       "      <td>2006</td>\n",
       "      <td>Namibia</td>\n",
       "      <td>0</td>\n",
       "      <td>Food and live animals</td>\n",
       "      <td>None</td>\n",
       "      <td>273.2</td>\n",
       "      <td>3.2</td>\n",
       "      <td>-270.0</td>\n",
       "      <td>276.4</td>\n",
       "    </tr>\n",
       "    <tr>\n",
       "      <th>6295</th>\n",
       "      <td>2006</td>\n",
       "      <td>Namibia</td>\n",
       "      <td>2</td>\n",
       "      <td>Crude materials,inedible,except fuels</td>\n",
       "      <td>None</td>\n",
       "      <td>4.3</td>\n",
       "      <td>0.0</td>\n",
       "      <td>-4.3</td>\n",
       "      <td>4.3</td>\n",
       "    </tr>\n",
       "    <tr>\n",
       "      <th>6297</th>\n",
       "      <td>2006</td>\n",
       "      <td>Namibia</td>\n",
       "      <td>6</td>\n",
       "      <td>Manufactured goods classified chiefly by material</td>\n",
       "      <td>None</td>\n",
       "      <td>0.7</td>\n",
       "      <td>0.0</td>\n",
       "      <td>-0.7</td>\n",
       "      <td>0.7</td>\n",
       "    </tr>\n",
       "    <tr>\n",
       "      <th>...</th>\n",
       "      <td>...</td>\n",
       "      <td>...</td>\n",
       "      <td>...</td>\n",
       "      <td>...</td>\n",
       "      <td>...</td>\n",
       "      <td>...</td>\n",
       "      <td>...</td>\n",
       "      <td>...</td>\n",
       "      <td>...</td>\n",
       "    </tr>\n",
       "    <tr>\n",
       "      <th>23731</th>\n",
       "      <td>2013</td>\n",
       "      <td>Namibia</td>\n",
       "      <td>0</td>\n",
       "      <td>Food and live animals</td>\n",
       "      <td>None</td>\n",
       "      <td>1.5</td>\n",
       "      <td>0.0</td>\n",
       "      <td>-1.5</td>\n",
       "      <td>1.5</td>\n",
       "    </tr>\n",
       "    <tr>\n",
       "      <th>23733</th>\n",
       "      <td>2013</td>\n",
       "      <td>Namibia</td>\n",
       "      <td>2</td>\n",
       "      <td>Crude materials,inedible,except fuels</td>\n",
       "      <td>None</td>\n",
       "      <td>8.9</td>\n",
       "      <td>0.0</td>\n",
       "      <td>-8.9</td>\n",
       "      <td>8.9</td>\n",
       "    </tr>\n",
       "    <tr>\n",
       "      <th>23735</th>\n",
       "      <td>2013</td>\n",
       "      <td>Namibia</td>\n",
       "      <td>7</td>\n",
       "      <td>Machinery and transport equipment</td>\n",
       "      <td>None</td>\n",
       "      <td>0.1</td>\n",
       "      <td>1.5</td>\n",
       "      <td>1.4</td>\n",
       "      <td>1.6</td>\n",
       "    </tr>\n",
       "    <tr>\n",
       "      <th>23737</th>\n",
       "      <td>2013</td>\n",
       "      <td>Namibia</td>\n",
       "      <td>8</td>\n",
       "      <td>Miscellaneous manufactured articles</td>\n",
       "      <td>None</td>\n",
       "      <td>0.9</td>\n",
       "      <td>319.2</td>\n",
       "      <td>318.3</td>\n",
       "      <td>320.1</td>\n",
       "    </tr>\n",
       "    <tr>\n",
       "      <th>26327</th>\n",
       "      <td>2014</td>\n",
       "      <td>Namibia</td>\n",
       "      <td>0</td>\n",
       "      <td>Food and live animals</td>\n",
       "      <td>None</td>\n",
       "      <td>3.7</td>\n",
       "      <td>0.0</td>\n",
       "      <td>-3.7</td>\n",
       "      <td>3.7</td>\n",
       "    </tr>\n",
       "    <tr>\n",
       "      <th>26329</th>\n",
       "      <td>2014</td>\n",
       "      <td>Namibia</td>\n",
       "      <td>2</td>\n",
       "      <td>Crude materials,inedible,except fuels</td>\n",
       "      <td>None</td>\n",
       "      <td>1.1</td>\n",
       "      <td>4.2</td>\n",
       "      <td>3.1</td>\n",
       "      <td>5.3</td>\n",
       "    </tr>\n",
       "    <tr>\n",
       "      <th>26331</th>\n",
       "      <td>2014</td>\n",
       "      <td>Namibia</td>\n",
       "      <td>5</td>\n",
       "      <td>Chemicals and related products,not elsewhere s...</td>\n",
       "      <td>None</td>\n",
       "      <td>1.7</td>\n",
       "      <td>7.7</td>\n",
       "      <td>6.0</td>\n",
       "      <td>9.4</td>\n",
       "    </tr>\n",
       "    <tr>\n",
       "      <th>26333</th>\n",
       "      <td>2014</td>\n",
       "      <td>Namibia</td>\n",
       "      <td>6</td>\n",
       "      <td>Manufactured goods classified chiefly by material</td>\n",
       "      <td>None</td>\n",
       "      <td>3.8</td>\n",
       "      <td>0.0</td>\n",
       "      <td>-3.8</td>\n",
       "      <td>3.8</td>\n",
       "    </tr>\n",
       "    <tr>\n",
       "      <th>26335</th>\n",
       "      <td>2014</td>\n",
       "      <td>Namibia</td>\n",
       "      <td>7</td>\n",
       "      <td>Machinery and transport equipment</td>\n",
       "      <td>None</td>\n",
       "      <td>0.0</td>\n",
       "      <td>12.9</td>\n",
       "      <td>12.9</td>\n",
       "      <td>12.9</td>\n",
       "    </tr>\n",
       "    <tr>\n",
       "      <th>26337</th>\n",
       "      <td>2014</td>\n",
       "      <td>Namibia</td>\n",
       "      <td>8</td>\n",
       "      <td>Miscellaneous manufactured articles</td>\n",
       "      <td>None</td>\n",
       "      <td>3.0</td>\n",
       "      <td>0.0</td>\n",
       "      <td>-3.0</td>\n",
       "      <td>3.0</td>\n",
       "    </tr>\n",
       "    <tr>\n",
       "      <th>26339</th>\n",
       "      <td>2014</td>\n",
       "      <td>Namibia</td>\n",
       "      <td>9</td>\n",
       "      <td>SMTK Rev. 4 Commodities n.e.s. in the SITC Rev. 4</td>\n",
       "      <td>None</td>\n",
       "      <td>1.2</td>\n",
       "      <td>0.0</td>\n",
       "      <td>-1.2</td>\n",
       "      <td>1.2</td>\n",
       "    </tr>\n",
       "    <tr>\n",
       "      <th>29017</th>\n",
       "      <td>2015</td>\n",
       "      <td>Namibia</td>\n",
       "      <td>0</td>\n",
       "      <td>Food and live animals</td>\n",
       "      <td>None</td>\n",
       "      <td>6.8</td>\n",
       "      <td>0.0</td>\n",
       "      <td>-6.8</td>\n",
       "      <td>6.8</td>\n",
       "    </tr>\n",
       "    <tr>\n",
       "      <th>29019</th>\n",
       "      <td>2015</td>\n",
       "      <td>Namibia</td>\n",
       "      <td>6</td>\n",
       "      <td>Manufactured goods classified chiefly by material</td>\n",
       "      <td>None</td>\n",
       "      <td>32.1</td>\n",
       "      <td>0.0</td>\n",
       "      <td>-32.1</td>\n",
       "      <td>32.1</td>\n",
       "    </tr>\n",
       "    <tr>\n",
       "      <th>29021</th>\n",
       "      <td>2015</td>\n",
       "      <td>Namibia</td>\n",
       "      <td>7</td>\n",
       "      <td>Machinery and transport equipment</td>\n",
       "      <td>None</td>\n",
       "      <td>0.0</td>\n",
       "      <td>8.1</td>\n",
       "      <td>8.1</td>\n",
       "      <td>8.1</td>\n",
       "    </tr>\n",
       "    <tr>\n",
       "      <th>29023</th>\n",
       "      <td>2015</td>\n",
       "      <td>Namibia</td>\n",
       "      <td>8</td>\n",
       "      <td>Miscellaneous manufactured articles</td>\n",
       "      <td>None</td>\n",
       "      <td>0.0</td>\n",
       "      <td>625.1</td>\n",
       "      <td>625.1</td>\n",
       "      <td>625.1</td>\n",
       "    </tr>\n",
       "    <tr>\n",
       "      <th>31775</th>\n",
       "      <td>2016</td>\n",
       "      <td>Namibia</td>\n",
       "      <td>0</td>\n",
       "      <td>Food and live animals</td>\n",
       "      <td>None</td>\n",
       "      <td>47.9</td>\n",
       "      <td>0.0</td>\n",
       "      <td>-47.9</td>\n",
       "      <td>47.9</td>\n",
       "    </tr>\n",
       "    <tr>\n",
       "      <th>31777</th>\n",
       "      <td>2016</td>\n",
       "      <td>Namibia</td>\n",
       "      <td>5</td>\n",
       "      <td>Chemicals and related products,not elsewhere s...</td>\n",
       "      <td>None</td>\n",
       "      <td>0.0</td>\n",
       "      <td>412.7</td>\n",
       "      <td>412.7</td>\n",
       "      <td>412.7</td>\n",
       "    </tr>\n",
       "    <tr>\n",
       "      <th>31779</th>\n",
       "      <td>2016</td>\n",
       "      <td>Namibia</td>\n",
       "      <td>6</td>\n",
       "      <td>Manufactured goods classified chiefly by material</td>\n",
       "      <td>None</td>\n",
       "      <td>164.8</td>\n",
       "      <td>61.4</td>\n",
       "      <td>-103.4</td>\n",
       "      <td>226.2</td>\n",
       "    </tr>\n",
       "    <tr>\n",
       "      <th>31781</th>\n",
       "      <td>2016</td>\n",
       "      <td>Namibia</td>\n",
       "      <td>7</td>\n",
       "      <td>Machinery and transport equipment</td>\n",
       "      <td>None</td>\n",
       "      <td>0.3</td>\n",
       "      <td>22.5</td>\n",
       "      <td>22.2</td>\n",
       "      <td>22.8</td>\n",
       "    </tr>\n",
       "    <tr>\n",
       "      <th>31783</th>\n",
       "      <td>2016</td>\n",
       "      <td>Namibia</td>\n",
       "      <td>8</td>\n",
       "      <td>Miscellaneous manufactured articles</td>\n",
       "      <td>None</td>\n",
       "      <td>0.1</td>\n",
       "      <td>0.1</td>\n",
       "      <td>0.0</td>\n",
       "      <td>0.2</td>\n",
       "    </tr>\n",
       "    <tr>\n",
       "      <th>34565</th>\n",
       "      <td>2017</td>\n",
       "      <td>Namibia</td>\n",
       "      <td>0</td>\n",
       "      <td>Food and live animals</td>\n",
       "      <td>None</td>\n",
       "      <td>17.1</td>\n",
       "      <td>0.0</td>\n",
       "      <td>-17.1</td>\n",
       "      <td>17.1</td>\n",
       "    </tr>\n",
       "    <tr>\n",
       "      <th>34567</th>\n",
       "      <td>2017</td>\n",
       "      <td>Namibia</td>\n",
       "      <td>6</td>\n",
       "      <td>Manufactured goods classified chiefly by material</td>\n",
       "      <td>None</td>\n",
       "      <td>0.3</td>\n",
       "      <td>0.0</td>\n",
       "      <td>-0.3</td>\n",
       "      <td>0.3</td>\n",
       "    </tr>\n",
       "    <tr>\n",
       "      <th>34569</th>\n",
       "      <td>2017</td>\n",
       "      <td>Namibia</td>\n",
       "      <td>7</td>\n",
       "      <td>Machinery and transport equipment</td>\n",
       "      <td>None</td>\n",
       "      <td>1.4</td>\n",
       "      <td>0.0</td>\n",
       "      <td>-1.4</td>\n",
       "      <td>1.4</td>\n",
       "    </tr>\n",
       "    <tr>\n",
       "      <th>34571</th>\n",
       "      <td>2017</td>\n",
       "      <td>Namibia</td>\n",
       "      <td>8</td>\n",
       "      <td>Miscellaneous manufactured articles</td>\n",
       "      <td>None</td>\n",
       "      <td>2.8</td>\n",
       "      <td>0.0</td>\n",
       "      <td>-2.8</td>\n",
       "      <td>2.8</td>\n",
       "    </tr>\n",
       "    <tr>\n",
       "      <th>34573</th>\n",
       "      <td>2017</td>\n",
       "      <td>Namibia</td>\n",
       "      <td>9</td>\n",
       "      <td>SMTK Rev. 4 Commodities n.e.s. in the SITC Rev. 4</td>\n",
       "      <td>None</td>\n",
       "      <td>0.4</td>\n",
       "      <td>0.0</td>\n",
       "      <td>-0.4</td>\n",
       "      <td>0.4</td>\n",
       "    </tr>\n",
       "    <tr>\n",
       "      <th>37401</th>\n",
       "      <td>2018</td>\n",
       "      <td>Namibia</td>\n",
       "      <td>0</td>\n",
       "      <td>Food and live animals</td>\n",
       "      <td>None</td>\n",
       "      <td>6.6</td>\n",
       "      <td>0.0</td>\n",
       "      <td>-6.6</td>\n",
       "      <td>6.6</td>\n",
       "    </tr>\n",
       "    <tr>\n",
       "      <th>37403</th>\n",
       "      <td>2018</td>\n",
       "      <td>Namibia</td>\n",
       "      <td>4</td>\n",
       "      <td>Animal and vegetable oils,fats and waxes</td>\n",
       "      <td>None</td>\n",
       "      <td>2.5</td>\n",
       "      <td>0.0</td>\n",
       "      <td>-2.5</td>\n",
       "      <td>2.5</td>\n",
       "    </tr>\n",
       "    <tr>\n",
       "      <th>37405</th>\n",
       "      <td>2018</td>\n",
       "      <td>Namibia</td>\n",
       "      <td>7</td>\n",
       "      <td>Machinery and transport equipment</td>\n",
       "      <td>None</td>\n",
       "      <td>4.1</td>\n",
       "      <td>0.0</td>\n",
       "      <td>-4.1</td>\n",
       "      <td>4.1</td>\n",
       "    </tr>\n",
       "    <tr>\n",
       "      <th>37407</th>\n",
       "      <td>2018</td>\n",
       "      <td>Namibia</td>\n",
       "      <td>8</td>\n",
       "      <td>Miscellaneous manufactured articles</td>\n",
       "      <td>None</td>\n",
       "      <td>0.0</td>\n",
       "      <td>84.0</td>\n",
       "      <td>84.0</td>\n",
       "      <td>84.0</td>\n",
       "    </tr>\n",
       "    <tr>\n",
       "      <th>38333</th>\n",
       "      <td>2018</td>\n",
       "      <td>Zaire</td>\n",
       "      <td>0</td>\n",
       "      <td>Food and live animals</td>\n",
       "      <td>None</td>\n",
       "      <td>0.4</td>\n",
       "      <td>0.0</td>\n",
       "      <td>-0.4</td>\n",
       "      <td>0.4</td>\n",
       "    </tr>\n",
       "  </tbody>\n",
       "</table>\n",
       "<p>129 rows × 9 columns</p>\n",
       "</div>"
      ],
      "text/plain": [
       "       year                         country  IDNSST  \\\n",
       "97     2004            Netherlands Antilles       7   \n",
       "1521   2004                         Namibia       0   \n",
       "1523   2004                         Namibia       2   \n",
       "1525   2004                         Namibia       6   \n",
       "1527   2004                         Namibia       7   \n",
       "1529   2004                         Namibia       8   \n",
       "1531   2004                         Namibia       9   \n",
       "2131   2004                      East Timor       6   \n",
       "2317   2004  Palestine Liberation Organisat       2   \n",
       "2353   2004                           Zaire       0   \n",
       "2355   2004                           Zaire       8   \n",
       "2455   2005            Netherlands Antilles       0   \n",
       "2457   2005            Netherlands Antilles       5   \n",
       "2459   2005            Netherlands Antilles       6   \n",
       "2461   2005            Netherlands Antilles       8   \n",
       "3927   2005                         Namibia       0   \n",
       "3929   2005                         Namibia       2   \n",
       "3931   2005                         Namibia       6   \n",
       "3933   2005                         Namibia       8   \n",
       "4495   2005                      East Timor       5   \n",
       "4497   2005                      East Timor       6   \n",
       "4499   2005                      East Timor       7   \n",
       "4501   2005                      East Timor       8   \n",
       "4817   2006            Netherlands Antilles       6   \n",
       "4819   2006            Netherlands Antilles       7   \n",
       "4821   2006            Netherlands Antilles       8   \n",
       "5481   2006            France, Metropolitan       7   \n",
       "6293   2006                         Namibia       0   \n",
       "6295   2006                         Namibia       2   \n",
       "6297   2006                         Namibia       6   \n",
       "...     ...                             ...     ...   \n",
       "23731  2013                         Namibia       0   \n",
       "23733  2013                         Namibia       2   \n",
       "23735  2013                         Namibia       7   \n",
       "23737  2013                         Namibia       8   \n",
       "26327  2014                         Namibia       0   \n",
       "26329  2014                         Namibia       2   \n",
       "26331  2014                         Namibia       5   \n",
       "26333  2014                         Namibia       6   \n",
       "26335  2014                         Namibia       7   \n",
       "26337  2014                         Namibia       8   \n",
       "26339  2014                         Namibia       9   \n",
       "29017  2015                         Namibia       0   \n",
       "29019  2015                         Namibia       6   \n",
       "29021  2015                         Namibia       7   \n",
       "29023  2015                         Namibia       8   \n",
       "31775  2016                         Namibia       0   \n",
       "31777  2016                         Namibia       5   \n",
       "31779  2016                         Namibia       6   \n",
       "31781  2016                         Namibia       7   \n",
       "31783  2016                         Namibia       8   \n",
       "34565  2017                         Namibia       0   \n",
       "34567  2017                         Namibia       6   \n",
       "34569  2017                         Namibia       7   \n",
       "34571  2017                         Namibia       8   \n",
       "34573  2017                         Namibia       9   \n",
       "37401  2018                         Namibia       0   \n",
       "37403  2018                         Namibia       4   \n",
       "37405  2018                         Namibia       7   \n",
       "37407  2018                         Namibia       8   \n",
       "38333  2018                           Zaire       0   \n",
       "\n",
       "                                                category ccode  import_value  \\\n",
       "97                     Machinery and transport equipment  None           0.0   \n",
       "1521                               Food and live animals  None         293.4   \n",
       "1523               Crude materials,inedible,except fuels  None           2.9   \n",
       "1525   Manufactured goods classified chiefly by material  None           0.0   \n",
       "1527                   Machinery and transport equipment  None           2.8   \n",
       "1529                 Miscellaneous manufactured articles  None           2.7   \n",
       "1531   SMTK Rev. 4 Commodities n.e.s. in the SITC Rev. 4  None           0.0   \n",
       "2131   Manufactured goods classified chiefly by material  None           0.1   \n",
       "2317               Crude materials,inedible,except fuels  None           0.0   \n",
       "2353                               Food and live animals  None           0.6   \n",
       "2355                 Miscellaneous manufactured articles  None           0.1   \n",
       "2455                               Food and live animals  None          39.2   \n",
       "2457   Chemicals and related products,not elsewhere s...  None           0.0   \n",
       "2459   Manufactured goods classified chiefly by material  None           0.0   \n",
       "2461                 Miscellaneous manufactured articles  None           7.3   \n",
       "3927                               Food and live animals  None         434.4   \n",
       "3929               Crude materials,inedible,except fuels  None           3.6   \n",
       "3931   Manufactured goods classified chiefly by material  None           2.2   \n",
       "3933                 Miscellaneous manufactured articles  None          43.4   \n",
       "4495   Chemicals and related products,not elsewhere s...  None           0.2   \n",
       "4497   Manufactured goods classified chiefly by material  None           1.5   \n",
       "4499                   Machinery and transport equipment  None           2.9   \n",
       "4501                 Miscellaneous manufactured articles  None           0.3   \n",
       "4817   Manufactured goods classified chiefly by material  None           0.0   \n",
       "4819                   Machinery and transport equipment  None           0.0   \n",
       "4821                 Miscellaneous manufactured articles  None           0.1   \n",
       "5481                   Machinery and transport equipment  None           0.0   \n",
       "6293                               Food and live animals  None         273.2   \n",
       "6295               Crude materials,inedible,except fuels  None           4.3   \n",
       "6297   Manufactured goods classified chiefly by material  None           0.7   \n",
       "...                                                  ...   ...           ...   \n",
       "23731                              Food and live animals  None           1.5   \n",
       "23733              Crude materials,inedible,except fuels  None           8.9   \n",
       "23735                  Machinery and transport equipment  None           0.1   \n",
       "23737                Miscellaneous manufactured articles  None           0.9   \n",
       "26327                              Food and live animals  None           3.7   \n",
       "26329              Crude materials,inedible,except fuels  None           1.1   \n",
       "26331  Chemicals and related products,not elsewhere s...  None           1.7   \n",
       "26333  Manufactured goods classified chiefly by material  None           3.8   \n",
       "26335                  Machinery and transport equipment  None           0.0   \n",
       "26337                Miscellaneous manufactured articles  None           3.0   \n",
       "26339  SMTK Rev. 4 Commodities n.e.s. in the SITC Rev. 4  None           1.2   \n",
       "29017                              Food and live animals  None           6.8   \n",
       "29019  Manufactured goods classified chiefly by material  None          32.1   \n",
       "29021                  Machinery and transport equipment  None           0.0   \n",
       "29023                Miscellaneous manufactured articles  None           0.0   \n",
       "31775                              Food and live animals  None          47.9   \n",
       "31777  Chemicals and related products,not elsewhere s...  None           0.0   \n",
       "31779  Manufactured goods classified chiefly by material  None         164.8   \n",
       "31781                  Machinery and transport equipment  None           0.3   \n",
       "31783                Miscellaneous manufactured articles  None           0.1   \n",
       "34565                              Food and live animals  None          17.1   \n",
       "34567  Manufactured goods classified chiefly by material  None           0.3   \n",
       "34569                  Machinery and transport equipment  None           1.4   \n",
       "34571                Miscellaneous manufactured articles  None           2.8   \n",
       "34573  SMTK Rev. 4 Commodities n.e.s. in the SITC Rev. 4  None           0.4   \n",
       "37401                              Food and live animals  None           6.6   \n",
       "37403           Animal and vegetable oils,fats and waxes  None           2.5   \n",
       "37405                  Machinery and transport equipment  None           4.1   \n",
       "37407                Miscellaneous manufactured articles  None           0.0   \n",
       "38333                              Food and live animals  None           0.4   \n",
       "\n",
       "       export_value  balance  exchange  \n",
       "97              0.1      0.1       0.1  \n",
       "1521            0.0   -293.4     293.4  \n",
       "1523            0.0     -2.9       2.9  \n",
       "1525            3.0      3.0       3.0  \n",
       "1527            2.9      0.1       5.7  \n",
       "1529            8.8      6.1      11.5  \n",
       "1531            1.4      1.4       1.4  \n",
       "2131            0.0     -0.1       0.1  \n",
       "2317           19.0     19.0      19.0  \n",
       "2353           30.8     30.2      31.4  \n",
       "2355            0.0     -0.1       0.1  \n",
       "2455            0.0    -39.2      39.2  \n",
       "2457           58.2     58.2      58.2  \n",
       "2459            0.2      0.2       0.2  \n",
       "2461           11.2      3.9      18.5  \n",
       "3927            4.9   -429.5     439.3  \n",
       "3929            0.0     -3.6       3.6  \n",
       "3931           40.2     38.0      42.4  \n",
       "3933           80.6     37.2     124.0  \n",
       "4495            0.0     -0.2       0.2  \n",
       "4497            0.0     -1.5       1.5  \n",
       "4499            0.0     -2.9       2.9  \n",
       "4501            0.0     -0.3       0.3  \n",
       "4817           54.8     54.8      54.8  \n",
       "4819            2.2      2.2       2.2  \n",
       "4821            0.0     -0.1       0.1  \n",
       "5481            3.1      3.1       3.1  \n",
       "6293            3.2   -270.0     276.4  \n",
       "6295            0.0     -4.3       4.3  \n",
       "6297            0.0     -0.7       0.7  \n",
       "...             ...      ...       ...  \n",
       "23731           0.0     -1.5       1.5  \n",
       "23733           0.0     -8.9       8.9  \n",
       "23735           1.5      1.4       1.6  \n",
       "23737         319.2    318.3     320.1  \n",
       "26327           0.0     -3.7       3.7  \n",
       "26329           4.2      3.1       5.3  \n",
       "26331           7.7      6.0       9.4  \n",
       "26333           0.0     -3.8       3.8  \n",
       "26335          12.9     12.9      12.9  \n",
       "26337           0.0     -3.0       3.0  \n",
       "26339           0.0     -1.2       1.2  \n",
       "29017           0.0     -6.8       6.8  \n",
       "29019           0.0    -32.1      32.1  \n",
       "29021           8.1      8.1       8.1  \n",
       "29023         625.1    625.1     625.1  \n",
       "31775           0.0    -47.9      47.9  \n",
       "31777         412.7    412.7     412.7  \n",
       "31779          61.4   -103.4     226.2  \n",
       "31781          22.5     22.2      22.8  \n",
       "31783           0.1      0.0       0.2  \n",
       "34565           0.0    -17.1      17.1  \n",
       "34567           0.0     -0.3       0.3  \n",
       "34569           0.0     -1.4       1.4  \n",
       "34571           0.0     -2.8       2.8  \n",
       "34573           0.0     -0.4       0.4  \n",
       "37401           0.0     -6.6       6.6  \n",
       "37403           0.0     -2.5       2.5  \n",
       "37405           0.0     -4.1       4.1  \n",
       "37407          84.0     84.0      84.0  \n",
       "38333           0.0     -0.4       0.4  \n",
       "\n",
       "[129 rows x 9 columns]"
      ]
     },
     "execution_count": 36,
     "metadata": {},
     "output_type": "execute_result"
    }
   ],
   "source": [
    "nan_rows"
   ]
  },
  {
   "cell_type": "code",
   "execution_count": 37,
   "metadata": {},
   "outputs": [
    {
     "data": {
      "text/plain": [
       "array(['Netherlands Antilles', 'Namibia', 'East Timor',\n",
       "       'Palestine Liberation Organisat', 'Zaire', 'France, Metropolitan'],\n",
       "      dtype=object)"
      ]
     },
     "execution_count": 37,
     "metadata": {},
     "output_type": "execute_result"
    }
   ],
   "source": [
    "# there aren't so many countries that cause pycountry to choke... 6 of them.\n",
    "nan_rows.country.unique()"
   ]
  },
  {
   "cell_type": "markdown",
   "metadata": {},
   "source": [
    "### Decisions, decisions\n",
    "\n",
    "Now, this is a perfect example of data in desperate need of a fix. This malfunction is so small, that it would be a shame to just  dismiss it with a dropna command."
   ]
  },
  {
   "cell_type": "code",
   "execution_count": 38,
   "metadata": {},
   "outputs": [
    {
     "data": {
      "text/html": [
       "<div>\n",
       "<style scoped>\n",
       "    .dataframe tbody tr th:only-of-type {\n",
       "        vertical-align: middle;\n",
       "    }\n",
       "\n",
       "    .dataframe tbody tr th {\n",
       "        vertical-align: top;\n",
       "    }\n",
       "\n",
       "    .dataframe thead th {\n",
       "        text-align: right;\n",
       "    }\n",
       "</style>\n",
       "<table border=\"1\" class=\"dataframe\">\n",
       "  <thead>\n",
       "    <tr style=\"text-align: right;\">\n",
       "      <th></th>\n",
       "      <th>year</th>\n",
       "      <th>country</th>\n",
       "      <th>IDNSST</th>\n",
       "      <th>category</th>\n",
       "      <th>ccode</th>\n",
       "      <th>IDVrPod</th>\n",
       "      <th>export_value</th>\n",
       "    </tr>\n",
       "  </thead>\n",
       "  <tbody>\n",
       "    <tr>\n",
       "      <th>1520</th>\n",
       "      <td>2004</td>\n",
       "      <td>Namibia</td>\n",
       "      <td>0</td>\n",
       "      <td>Food and live animals</td>\n",
       "      <td>NaN</td>\n",
       "      <td>1</td>\n",
       "      <td>0.0</td>\n",
       "    </tr>\n",
       "    <tr>\n",
       "      <th>1521</th>\n",
       "      <td>2004</td>\n",
       "      <td>Namibia</td>\n",
       "      <td>0</td>\n",
       "      <td>Food and live animals</td>\n",
       "      <td>NaN</td>\n",
       "      <td>2</td>\n",
       "      <td>0.0</td>\n",
       "    </tr>\n",
       "    <tr>\n",
       "      <th>1522</th>\n",
       "      <td>2004</td>\n",
       "      <td>Namibia</td>\n",
       "      <td>2</td>\n",
       "      <td>Crude materials,inedible,except fuels</td>\n",
       "      <td>NaN</td>\n",
       "      <td>1</td>\n",
       "      <td>0.0</td>\n",
       "    </tr>\n",
       "    <tr>\n",
       "      <th>1523</th>\n",
       "      <td>2004</td>\n",
       "      <td>Namibia</td>\n",
       "      <td>2</td>\n",
       "      <td>Crude materials,inedible,except fuels</td>\n",
       "      <td>NaN</td>\n",
       "      <td>2</td>\n",
       "      <td>0.0</td>\n",
       "    </tr>\n",
       "    <tr>\n",
       "      <th>1524</th>\n",
       "      <td>2004</td>\n",
       "      <td>Namibia</td>\n",
       "      <td>6</td>\n",
       "      <td>Manufactured goods classified chiefly by material</td>\n",
       "      <td>NaN</td>\n",
       "      <td>1</td>\n",
       "      <td>24.9</td>\n",
       "    </tr>\n",
       "  </tbody>\n",
       "</table>\n",
       "</div>"
      ],
      "text/plain": [
       "      year  country  IDNSST  \\\n",
       "1520  2004  Namibia       0   \n",
       "1521  2004  Namibia       0   \n",
       "1522  2004  Namibia       2   \n",
       "1523  2004  Namibia       2   \n",
       "1524  2004  Namibia       6   \n",
       "\n",
       "                                               category ccode  IDVrPod  \\\n",
       "1520                              Food and live animals   NaN        1   \n",
       "1521                              Food and live animals   NaN        2   \n",
       "1522              Crude materials,inedible,except fuels   NaN        1   \n",
       "1523              Crude materials,inedible,except fuels   NaN        2   \n",
       "1524  Manufactured goods classified chiefly by material   NaN        1   \n",
       "\n",
       "      export_value  \n",
       "1520           0.0  \n",
       "1521           0.0  \n",
       "1522           0.0  \n",
       "1523           0.0  \n",
       "1524          24.9  "
      ]
     },
     "execution_count": 38,
     "metadata": {},
     "output_type": "execute_result"
    }
   ],
   "source": [
    "# what was the initial value in the original file?\n",
    "serbian_exports[serbian_exports['country']=='Namibia'].head()"
   ]
  },
  {
   "cell_type": "code",
   "execution_count": 39,
   "metadata": {},
   "outputs": [
    {
     "data": {
      "text/html": [
       "<div>\n",
       "<style scoped>\n",
       "    .dataframe tbody tr th:only-of-type {\n",
       "        vertical-align: middle;\n",
       "    }\n",
       "\n",
       "    .dataframe tbody tr th {\n",
       "        vertical-align: top;\n",
       "    }\n",
       "\n",
       "    .dataframe thead th {\n",
       "        text-align: right;\n",
       "    }\n",
       "</style>\n",
       "<table border=\"1\" class=\"dataframe\">\n",
       "  <thead>\n",
       "    <tr style=\"text-align: right;\">\n",
       "      <th></th>\n",
       "      <th>year</th>\n",
       "      <th>country</th>\n",
       "      <th>IDNSST</th>\n",
       "      <th>category</th>\n",
       "      <th>ccode</th>\n",
       "      <th>IDVrPod</th>\n",
       "      <th>export_value</th>\n",
       "    </tr>\n",
       "  </thead>\n",
       "  <tbody>\n",
       "    <tr>\n",
       "      <th>2130</th>\n",
       "      <td>2004</td>\n",
       "      <td>East Timor</td>\n",
       "      <td>6</td>\n",
       "      <td>Manufactured goods classified chiefly by material</td>\n",
       "      <td>TP</td>\n",
       "      <td>1</td>\n",
       "      <td>0.0</td>\n",
       "    </tr>\n",
       "    <tr>\n",
       "      <th>2131</th>\n",
       "      <td>2004</td>\n",
       "      <td>East Timor</td>\n",
       "      <td>6</td>\n",
       "      <td>Manufactured goods classified chiefly by material</td>\n",
       "      <td>TP</td>\n",
       "      <td>2</td>\n",
       "      <td>0.0</td>\n",
       "    </tr>\n",
       "    <tr>\n",
       "      <th>4494</th>\n",
       "      <td>2005</td>\n",
       "      <td>East Timor</td>\n",
       "      <td>5</td>\n",
       "      <td>Chemicals and related products,not elsewhere s...</td>\n",
       "      <td>TP</td>\n",
       "      <td>1</td>\n",
       "      <td>0.0</td>\n",
       "    </tr>\n",
       "    <tr>\n",
       "      <th>4495</th>\n",
       "      <td>2005</td>\n",
       "      <td>East Timor</td>\n",
       "      <td>5</td>\n",
       "      <td>Chemicals and related products,not elsewhere s...</td>\n",
       "      <td>TP</td>\n",
       "      <td>2</td>\n",
       "      <td>0.0</td>\n",
       "    </tr>\n",
       "    <tr>\n",
       "      <th>4496</th>\n",
       "      <td>2005</td>\n",
       "      <td>East Timor</td>\n",
       "      <td>6</td>\n",
       "      <td>Manufactured goods classified chiefly by material</td>\n",
       "      <td>TP</td>\n",
       "      <td>1</td>\n",
       "      <td>0.0</td>\n",
       "    </tr>\n",
       "  </tbody>\n",
       "</table>\n",
       "</div>"
      ],
      "text/plain": [
       "      year     country  IDNSST  \\\n",
       "2130  2004  East Timor       6   \n",
       "2131  2004  East Timor       6   \n",
       "4494  2005  East Timor       5   \n",
       "4495  2005  East Timor       5   \n",
       "4496  2005  East Timor       6   \n",
       "\n",
       "                                               category ccode  IDVrPod  \\\n",
       "2130  Manufactured goods classified chiefly by material    TP        1   \n",
       "2131  Manufactured goods classified chiefly by material    TP        2   \n",
       "4494  Chemicals and related products,not elsewhere s...    TP        1   \n",
       "4495  Chemicals and related products,not elsewhere s...    TP        2   \n",
       "4496  Manufactured goods classified chiefly by material    TP        1   \n",
       "\n",
       "      export_value  \n",
       "2130           0.0  \n",
       "2131           0.0  \n",
       "4494           0.0  \n",
       "4495           0.0  \n",
       "4496           0.0  "
      ]
     },
     "execution_count": 39,
     "metadata": {},
     "output_type": "execute_result"
    }
   ],
   "source": [
    "# Ok... so there was no code whatsoever. How about the others?\n",
    "# what was the initial value in the original file?\n",
    "serbian_exports[serbian_exports['country']=='East Timor'].head()"
   ]
  },
  {
   "cell_type": "markdown",
   "metadata": {},
   "source": [
    "In the original file there was the code **NA** for Namibia, which is correct, so it's probably Pandas. \n",
    "After a quick [stackoverflow check](https://stackoverflow.com/questions/41417214/prevent-pandas-from-reading-na-as-nan) it turns out I am right.\n",
    "I want to fix this now manually, and then we'll update the main processing ETL function later, including this NA hack."
   ]
  },
  {
   "cell_type": "code",
   "execution_count": 40,
   "metadata": {},
   "outputs": [
    {
     "name": "stdout",
     "output_type": "stream",
     "text": [
      "None\n"
     ]
    }
   ],
   "source": [
    "# east Timor, however isn't recognized by pycountry\n",
    "print(convert_ccode('TP'))"
   ]
  },
  {
   "cell_type": "code",
   "execution_count": 41,
   "metadata": {},
   "outputs": [
    {
     "name": "stdout",
     "output_type": "stream",
     "text": [
      "None\n"
     ]
    }
   ],
   "source": [
    "# neither is Zaire\n",
    "print(convert_ccode('ZR'))"
   ]
  },
  {
   "cell_type": "code",
   "execution_count": 42,
   "metadata": {},
   "outputs": [
    {
     "name": "stdout",
     "output_type": "stream",
     "text": [
      "None\n"
     ]
    }
   ],
   "source": [
    "print(convert_ccode('XP'))"
   ]
  },
  {
   "cell_type": "code",
   "execution_count": 43,
   "metadata": {},
   "outputs": [
    {
     "name": "stdout",
     "output_type": "stream",
     "text": [
      "PSE\n"
     ]
    }
   ],
   "source": [
    "print(convert_ccode('PS'))"
   ]
  },
  {
   "cell_type": "code",
   "execution_count": 44,
   "metadata": {},
   "outputs": [
    {
     "name": "stdout",
     "output_type": "stream",
     "text": [
      "None\n"
     ]
    }
   ],
   "source": [
    "print(convert_ccode('AN'))"
   ]
  },
  {
   "cell_type": "markdown",
   "metadata": {},
   "source": [
    "Decisions... Well, the decision here is the following set of rules:\n",
    "\n",
    " - Namibia gets converted to Namibia manually - NAM\n",
    " - Netherlands Antilles becomes Netherlands - NLD\n",
    " - East Timor gets converted manually to - TMP\n",
    " - Palestine Liberation Organisat becomes Palestine - PSE\n",
    " - Zaire gets converted to Zaire manually - ZAR\n",
    " - France, Metropolitan gets added to France - FRA"
   ]
  },
  {
   "cell_type": "code",
   "execution_count": 45,
   "metadata": {},
   "outputs": [],
   "source": [
    "def fix_ccode(val):\n",
    "    \n",
    "    if 'Namibia' in val['country']:\n",
    "        return 'NAM'\n",
    "    if 'Netherlands Antilles' in val['country']:\n",
    "        return 'NLD'\n",
    "    if 'East Timor' in val['country']:\n",
    "        return 'TMP'\n",
    "    if 'Palestine' in val['country']:\n",
    "        return 'PSE'\n",
    "    if 'Zaire' in val['country']:\n",
    "        return 'ZAR'\n",
    "    if 'France, Metropolitan' in val['country']:\n",
    "        return 'FRA'\n",
    "    else:\n",
    "        return val['ccode']"
   ]
  },
  {
   "cell_type": "code",
   "execution_count": 46,
   "metadata": {},
   "outputs": [
    {
     "data": {
      "text/html": [
       "<div>\n",
       "<style scoped>\n",
       "    .dataframe tbody tr th:only-of-type {\n",
       "        vertical-align: middle;\n",
       "    }\n",
       "\n",
       "    .dataframe tbody tr th {\n",
       "        vertical-align: top;\n",
       "    }\n",
       "\n",
       "    .dataframe thead th {\n",
       "        text-align: right;\n",
       "    }\n",
       "</style>\n",
       "<table border=\"1\" class=\"dataframe\">\n",
       "  <thead>\n",
       "    <tr style=\"text-align: right;\">\n",
       "      <th></th>\n",
       "      <th>year</th>\n",
       "      <th>country</th>\n",
       "      <th>IDNSST</th>\n",
       "      <th>category</th>\n",
       "      <th>ccode</th>\n",
       "      <th>import_value</th>\n",
       "      <th>export_value</th>\n",
       "      <th>balance</th>\n",
       "      <th>exchange</th>\n",
       "    </tr>\n",
       "  </thead>\n",
       "  <tbody>\n",
       "    <tr>\n",
       "      <th>21</th>\n",
       "      <td>2004</td>\n",
       "      <td>Andorra</td>\n",
       "      <td>0</td>\n",
       "      <td>Food and live animals</td>\n",
       "      <td>AND</td>\n",
       "      <td>27.0</td>\n",
       "      <td>0.0</td>\n",
       "      <td>-27.0</td>\n",
       "      <td>27.0</td>\n",
       "    </tr>\n",
       "    <tr>\n",
       "      <th>23</th>\n",
       "      <td>2004</td>\n",
       "      <td>Andorra</td>\n",
       "      <td>5</td>\n",
       "      <td>Chemicals and related products,not elsewhere s...</td>\n",
       "      <td>AND</td>\n",
       "      <td>0.1</td>\n",
       "      <td>0.0</td>\n",
       "      <td>-0.1</td>\n",
       "      <td>0.1</td>\n",
       "    </tr>\n",
       "    <tr>\n",
       "      <th>25</th>\n",
       "      <td>2004</td>\n",
       "      <td>Andorra</td>\n",
       "      <td>6</td>\n",
       "      <td>Manufactured goods classified chiefly by material</td>\n",
       "      <td>AND</td>\n",
       "      <td>4.8</td>\n",
       "      <td>0.0</td>\n",
       "      <td>-4.8</td>\n",
       "      <td>4.8</td>\n",
       "    </tr>\n",
       "    <tr>\n",
       "      <th>27</th>\n",
       "      <td>2004</td>\n",
       "      <td>Andorra</td>\n",
       "      <td>7</td>\n",
       "      <td>Machinery and transport equipment</td>\n",
       "      <td>AND</td>\n",
       "      <td>24.4</td>\n",
       "      <td>0.0</td>\n",
       "      <td>-24.4</td>\n",
       "      <td>24.4</td>\n",
       "    </tr>\n",
       "    <tr>\n",
       "      <th>29</th>\n",
       "      <td>2004</td>\n",
       "      <td>Andorra</td>\n",
       "      <td>8</td>\n",
       "      <td>Miscellaneous manufactured articles</td>\n",
       "      <td>AND</td>\n",
       "      <td>120.8</td>\n",
       "      <td>0.0</td>\n",
       "      <td>-120.8</td>\n",
       "      <td>120.8</td>\n",
       "    </tr>\n",
       "  </tbody>\n",
       "</table>\n",
       "</div>"
      ],
      "text/plain": [
       "    year  country  IDNSST                                           category  \\\n",
       "21  2004  Andorra       0                              Food and live animals   \n",
       "23  2004  Andorra       5  Chemicals and related products,not elsewhere s...   \n",
       "25  2004  Andorra       6  Manufactured goods classified chiefly by material   \n",
       "27  2004  Andorra       7                  Machinery and transport equipment   \n",
       "29  2004  Andorra       8                Miscellaneous manufactured articles   \n",
       "\n",
       "   ccode  import_value  export_value  balance  exchange  \n",
       "21   AND          27.0           0.0    -27.0      27.0  \n",
       "23   AND           0.1           0.0     -0.1       0.1  \n",
       "25   AND           4.8           0.0     -4.8       4.8  \n",
       "27   AND          24.4           0.0    -24.4      24.4  \n",
       "29   AND         120.8           0.0   -120.8     120.8  "
      ]
     },
     "execution_count": 46,
     "metadata": {},
     "output_type": "execute_result"
    }
   ],
   "source": [
    "# fingers crossed...\n",
    "commerce.head()"
   ]
  },
  {
   "cell_type": "code",
   "execution_count": 47,
   "metadata": {},
   "outputs": [],
   "source": [
    "commerce['ccode'] = commerce.apply(fix_ccode, axis=1)"
   ]
  },
  {
   "cell_type": "code",
   "execution_count": 48,
   "metadata": {},
   "outputs": [
    {
     "data": {
      "text/plain": [
       "2131    TMP\n",
       "4495    TMP\n",
       "4497    TMP\n",
       "4499    TMP\n",
       "4501    TMP\n",
       "Name: ccode, dtype: object"
      ]
     },
     "execution_count": 48,
     "metadata": {},
     "output_type": "execute_result"
    }
   ],
   "source": [
    "commerce[commerce['country']=='East Timor']['ccode']"
   ]
  },
  {
   "cell_type": "code",
   "execution_count": 49,
   "metadata": {},
   "outputs": [
    {
     "data": {
      "text/plain": [
       "year            False\n",
       "country         False\n",
       "IDNSST          False\n",
       "category        False\n",
       "ccode           False\n",
       "import_value    False\n",
       "export_value    False\n",
       "balance         False\n",
       "exchange        False\n",
       "dtype: bool"
      ]
     },
     "execution_count": 49,
     "metadata": {},
     "output_type": "execute_result"
    }
   ],
   "source": [
    "commerce.isnull().any()"
   ]
  },
  {
   "cell_type": "markdown",
   "metadata": {},
   "source": [
    "Boring, but necessary."
   ]
  },
  {
   "cell_type": "markdown",
   "metadata": {},
   "source": [
    "## Testing testing\n",
    "\n",
    "Now we'll get a couple of points and try to compare them with the _official_ data.\n"
   ]
  },
  {
   "cell_type": "code",
   "execution_count": 50,
   "metadata": {},
   "outputs": [
    {
     "data": {
      "text/plain": [
       "array(['Food and live animals',\n",
       "       'Chemicals and related products,not elsewhere specified',\n",
       "       'Manufactured goods classified chiefly by material',\n",
       "       'Machinery and transport equipment',\n",
       "       'Miscellaneous manufactured articles',\n",
       "       'Crude materials,inedible,except fuels',\n",
       "       'Mineral fuels,lubricants and related materials',\n",
       "       'SMTK Rev. 4 Commodities n.e.s. in the SITC Rev. 4',\n",
       "       'Beverages and tobacco',\n",
       "       'Animal and vegetable oils,fats and waxes'], dtype=object)"
      ]
     },
     "execution_count": 50,
     "metadata": {},
     "output_type": "execute_result"
    }
   ],
   "source": [
    "commerce.category.unique()"
   ]
  },
  {
   "cell_type": "code",
   "execution_count": 51,
   "metadata": {},
   "outputs": [
    {
     "data": {
      "text/plain": [
       "2422626.6999999997"
      ]
     },
     "execution_count": 51,
     "metadata": {},
     "output_type": "execute_result"
    }
   ],
   "source": [
    "# let's pick some\n",
    "commerce[(commerce['year']==2018)&(commerce['country']=='Italy')]['import_value'].sum()"
   ]
  },
  {
   "cell_type": "code",
   "execution_count": 52,
   "metadata": {},
   "outputs": [
    {
     "data": {
      "text/plain": [
       "921663.3"
      ]
     },
     "execution_count": 52,
     "metadata": {},
     "output_type": "execute_result"
    }
   ],
   "source": [
    "commerce[(commerce['year']==2018)&(commerce['country']=='Poland')]['import_value'].sum()"
   ]
  },
  {
   "cell_type": "code",
   "execution_count": 53,
   "metadata": {},
   "outputs": [
    {
     "data": {
      "text/plain": [
       "720491.5"
      ]
     },
     "execution_count": 53,
     "metadata": {},
     "output_type": "execute_result"
    }
   ],
   "source": [
    "commerce[(commerce['year']==2018)&(commerce['country']=='Austria')]['import_value'].sum()"
   ]
  },
  {
   "cell_type": "code",
   "execution_count": 54,
   "metadata": {},
   "outputs": [
    {
     "data": {
      "text/plain": [
       "2356420.8"
      ]
     },
     "execution_count": 54,
     "metadata": {},
     "output_type": "execute_result"
    }
   ],
   "source": [
    "commerce[(commerce['year']==2018)&(commerce['country']=='Italy')]['export_value'].sum()"
   ]
  },
  {
   "cell_type": "code",
   "execution_count": 55,
   "metadata": {},
   "outputs": [
    {
     "data": {
      "text/plain": [
       "530213.6000000001"
      ]
     },
     "execution_count": 55,
     "metadata": {},
     "output_type": "execute_result"
    }
   ],
   "source": [
    "commerce[(commerce['year']==2018)&(commerce['country']=='France')]['export_value'].sum()"
   ]
  },
  {
   "cell_type": "code",
   "execution_count": 56,
   "metadata": {},
   "outputs": [
    {
     "data": {
      "text/plain": [
       "9370.5"
      ]
     },
     "execution_count": 56,
     "metadata": {},
     "output_type": "execute_result"
    }
   ],
   "source": [
    "commerce[(commerce['year']==2018)&(commerce['country']=='Iraq')]['export_value'].sum()"
   ]
  },
  {
   "cell_type": "code",
   "execution_count": 57,
   "metadata": {},
   "outputs": [
    {
     "data": {
      "text/plain": [
       "203207.9"
      ]
     },
     "execution_count": 57,
     "metadata": {},
     "output_type": "execute_result"
    }
   ],
   "source": [
    "commerce[(commerce['year']==2018)&(commerce['country']=='Sweden')]['export_value'].sum()"
   ]
  },
  {
   "cell_type": "code",
   "execution_count": 58,
   "metadata": {},
   "outputs": [
    {
     "data": {
      "text/plain": [
       "2237025.0000000005"
      ]
     },
     "execution_count": 58,
     "metadata": {},
     "output_type": "execute_result"
    }
   ],
   "source": [
    "commerce[(commerce['year']==2017)&(commerce['country']=='Italy')]['export_value'].sum()"
   ]
  },
  {
   "cell_type": "code",
   "execution_count": 59,
   "metadata": {},
   "outputs": [
    {
     "data": {
      "text/plain": [
       "62160.2"
      ]
     },
     "execution_count": 59,
     "metadata": {},
     "output_type": "execute_result"
    }
   ],
   "source": [
    "commerce[(commerce['year']==2017)&(commerce['country']=='China')]['export_value'].sum()"
   ]
  },
  {
   "cell_type": "code",
   "execution_count": 60,
   "metadata": {},
   "outputs": [
    {
     "data": {
      "text/plain": [
       "2419310.7"
      ]
     },
     "execution_count": 60,
     "metadata": {},
     "output_type": "execute_result"
    }
   ],
   "source": [
    "commerce[(commerce['year']==2018)&(commerce['category']=='Food and live animals')]['export_value'].sum()"
   ]
  },
  {
   "cell_type": "code",
   "execution_count": 61,
   "metadata": {},
   "outputs": [
    {
     "data": {
      "text/plain": [
       "2291579.8"
      ]
     },
     "execution_count": 61,
     "metadata": {},
     "output_type": "execute_result"
    }
   ],
   "source": [
    "commerce[(commerce['year']==2017)&(commerce['category']=='Food and live animals')]['export_value'].sum()"
   ]
  },
  {
   "cell_type": "code",
   "execution_count": 62,
   "metadata": {},
   "outputs": [
    {
     "data": {
      "text/plain": [
       "344669.60000000003"
      ]
     },
     "execution_count": 62,
     "metadata": {},
     "output_type": "execute_result"
    }
   ],
   "source": [
    "commerce[(commerce['year']==2018)&(commerce['category']=='Beverages and tobacco')]['import_value'].sum()"
   ]
  },
  {
   "cell_type": "code",
   "execution_count": 63,
   "metadata": {},
   "outputs": [
    {
     "data": {
      "text/plain": [
       "571385.8999999999"
      ]
     },
     "execution_count": 63,
     "metadata": {},
     "output_type": "execute_result"
    }
   ],
   "source": [
    "commerce[(commerce['year']==2018)&(commerce['category']=='Mineral fuels,lubricants and related materials')]['export_value'].sum()"
   ]
  },
  {
   "cell_type": "code",
   "execution_count": 64,
   "metadata": {},
   "outputs": [
    {
     "data": {
      "text/plain": [
       "25843009.700000003"
      ]
     },
     "execution_count": 64,
     "metadata": {},
     "output_type": "execute_result"
    }
   ],
   "source": [
    "commerce[commerce['year']==2018]['import_value'].sum()"
   ]
  },
  {
   "cell_type": "code",
   "execution_count": 65,
   "metadata": {},
   "outputs": [
    {
     "data": {
      "text/plain": [
       "19226475.1"
      ]
     },
     "execution_count": 65,
     "metadata": {},
     "output_type": "execute_result"
    }
   ],
   "source": [
    "commerce[commerce['year']==2018]['export_value'].sum()"
   ]
  },
  {
   "cell_type": "code",
   "execution_count": 66,
   "metadata": {},
   "outputs": [
    {
     "data": {
      "text/plain": [
       "21915344.799999997"
      ]
     },
     "execution_count": 66,
     "metadata": {},
     "output_type": "execute_result"
    }
   ],
   "source": [
    "commerce[commerce['year']==2017]['import_value'].sum()"
   ]
  },
  {
   "cell_type": "code",
   "execution_count": 67,
   "metadata": {},
   "outputs": [
    {
     "data": {
      "text/plain": [
       "599235.9"
      ]
     },
     "execution_count": 67,
     "metadata": {},
     "output_type": "execute_result"
    }
   ],
   "source": [
    "commerce[(commerce['year']==2017)&(commerce['IDNSST']==2)]['export_value'].sum()"
   ]
  },
  {
   "cell_type": "code",
   "execution_count": 68,
   "metadata": {},
   "outputs": [
    {
     "data": {
      "text/plain": [
       "3507984.5"
      ]
     },
     "execution_count": 68,
     "metadata": {},
     "output_type": "execute_result"
    }
   ],
   "source": [
    "commerce[(commerce['year']==2018)&(commerce['IDNSST']==5)]['import_value'].sum()"
   ]
  },
  {
   "cell_type": "markdown",
   "metadata": {},
   "source": [
    "I know it looks ugly, but this is manual testing, with pen and paper. It looks ok, bearing in mind that the printed report I used for comparisons is 3-4 months older than the live open data that we are using here - fluctuations and corrections are expected."
   ]
  },
  {
   "cell_type": "markdown",
   "metadata": {},
   "source": [
    "## The bigger dataset\n",
    "\n",
    "We could wrap it up and create the ETL function that reads the raw csv files, for exports and imports, but bz doing so we would fail to reuse this code for the bigger datasets - the one describing the 3digits categories.\n",
    "\n",
    "### We re gonna need a bigger boat\n",
    "\n",
    "This is going to be just a continuation of the first part - I want to simply replace the existing data with a bigger dataset. While in the forst part I worked with the SITC REV. 4 SECTIONS, now we'll dive a bit deeper, using the so-called SITC REV. 4 GROUPS. The first datasets had 38350 records each, while this has 593538 records: almost 20 times more.\n",
    "\n",
    "This doesn't work...\n",
    "\n",
    "exports = pd.read_csv('exp_groups.csv', sep=';')\n",
    "\n",
    "Turns out that some categories have a \";\" symbol inside the description. Now, since \";\" is used as a delimiter, this gives us a variable number of fields and the pandas parser, rightfully so, throws an error. At first I tried to replace all the occurences of the error manually, but then I understood that the error is systematic and general: the extra semicolons appear, if they appear, only in the 7th field. Let's see a typical example."
   ]
  },
  {
   "cell_type": "code",
   "execution_count": 69,
   "metadata": {},
   "outputs": [],
   "source": [
    "row = \"170303IND01;00;2004;00;All countries;03;Fish(not marine mammals),crustaceans,molluscs and aquatic invertebrates;preparations thereof;1;Quantity, tonnes;172.7\""
   ]
  },
  {
   "cell_type": "markdown",
   "metadata": {},
   "source": [
    "When we identify the error in this way, we can reuse the parts of the row that are **always** good: the first 6 fields and the last 3."
   ]
  },
  {
   "cell_type": "code",
   "execution_count": 70,
   "metadata": {},
   "outputs": [],
   "source": [
    "lst = row.split(\";\")"
   ]
  },
  {
   "cell_type": "code",
   "execution_count": 71,
   "metadata": {},
   "outputs": [
    {
     "data": {
      "text/plain": [
       "['170303IND01',\n",
       " '00',\n",
       " '2004',\n",
       " '00',\n",
       " 'All countries',\n",
       " '03',\n",
       " 'Fish(not marine mammals),crustaceans,molluscs and aquatic invertebrates',\n",
       " 'preparations thereof',\n",
       " '1',\n",
       " 'Quantity, tonnes',\n",
       " '172.7']"
      ]
     },
     "execution_count": 71,
     "metadata": {},
     "output_type": "execute_result"
    }
   ],
   "source": [
    "lst"
   ]
  },
  {
   "cell_type": "code",
   "execution_count": 72,
   "metadata": {},
   "outputs": [
    {
     "name": "stdout",
     "output_type": "stream",
     "text": [
      "['170303IND01', '00', '2004', '00', 'All countries', '03']\n"
     ]
    }
   ],
   "source": [
    "# the first 6 are ok\n",
    "beginning =lst[:6]\n",
    "print(beginning)"
   ]
  },
  {
   "cell_type": "code",
   "execution_count": 73,
   "metadata": {},
   "outputs": [],
   "source": [
    "# the last 3 as well\n",
    "end =lst[-3:]"
   ]
  },
  {
   "cell_type": "code",
   "execution_count": 74,
   "metadata": {},
   "outputs": [
    {
     "data": {
      "text/plain": [
       "['1', 'Quantity, tonnes', '172.7']"
      ]
     },
     "execution_count": 74,
     "metadata": {},
     "output_type": "execute_result"
    }
   ],
   "source": [
    "end"
   ]
  },
  {
   "cell_type": "code",
   "execution_count": 75,
   "metadata": {},
   "outputs": [],
   "source": [
    "# the (potentially) bad part\n",
    "middle = lst[6:][:-3]"
   ]
  },
  {
   "cell_type": "code",
   "execution_count": 76,
   "metadata": {},
   "outputs": [
    {
     "data": {
      "text/plain": [
       "['Fish(not marine mammals),crustaceans,molluscs and aquatic invertebrates',\n",
       " 'preparations thereof']"
      ]
     },
     "execution_count": 76,
     "metadata": {},
     "output_type": "execute_result"
    }
   ],
   "source": [
    "middle"
   ]
  },
  {
   "cell_type": "code",
   "execution_count": 77,
   "metadata": {},
   "outputs": [],
   "source": [
    "# now i just join the middle to a string\n",
    "middle = ','.join(middle)"
   ]
  },
  {
   "cell_type": "code",
   "execution_count": 78,
   "metadata": {},
   "outputs": [
    {
     "data": {
      "text/plain": [
       "'Fish(not marine mammals),crustaceans,molluscs and aquatic invertebrates,preparations thereof'"
      ]
     },
     "execution_count": 78,
     "metadata": {},
     "output_type": "execute_result"
    }
   ],
   "source": [
    "middle"
   ]
  },
  {
   "cell_type": "code",
   "execution_count": 79,
   "metadata": {},
   "outputs": [],
   "source": [
    "# and sew this all back\n",
    "beginning.append(middle)"
   ]
  },
  {
   "cell_type": "code",
   "execution_count": 80,
   "metadata": {},
   "outputs": [],
   "source": [
    "good_row = beginning+end"
   ]
  },
  {
   "cell_type": "code",
   "execution_count": 81,
   "metadata": {},
   "outputs": [
    {
     "data": {
      "text/plain": [
       "['170303IND01',\n",
       " '00',\n",
       " '2004',\n",
       " '00',\n",
       " 'All countries',\n",
       " '03',\n",
       " 'Fish(not marine mammals),crustaceans,molluscs and aquatic invertebrates,preparations thereof',\n",
       " '1',\n",
       " 'Quantity, tonnes',\n",
       " '172.7']"
      ]
     },
     "execution_count": 81,
     "metadata": {},
     "output_type": "execute_result"
    }
   ],
   "source": [
    "good_row"
   ]
  },
  {
   "cell_type": "code",
   "execution_count": 82,
   "metadata": {},
   "outputs": [
    {
     "name": "stdout",
     "output_type": "stream",
     "text": [
      "170303IND01;00;2004;00;All countries;03;Fish(not marine mammals),crustaceans,molluscs and aquatic invertebrates,preparations thereof;1;Quantity, tonnes;172.7\n"
     ]
    }
   ],
   "source": [
    "print(';'.join(good_row))"
   ]
  },
  {
   "cell_type": "markdown",
   "metadata": {},
   "source": [
    "Wrapping this in simple function:"
   ]
  },
  {
   "cell_type": "code",
   "execution_count": 83,
   "metadata": {},
   "outputs": [],
   "source": [
    "def fix_csv(old_csv, new_csv):\n",
    "    # function for converting the problematic csv file\n",
    "    \n",
    "    with open(old_csv,\"r\") as input_file: \n",
    "        with open(new_csv, \"w\") as output_file:\n",
    "                      \n",
    "            for line in input_file:\n",
    "                _fields = line.split(\";\")\n",
    "                _start =_fields[:6]\n",
    "                _end = _fields[-3:]\n",
    "                _middle = \",\".join(_fields[6:][:-3])\n",
    "                _start.append(_middle)\n",
    "                new_line = _start+_end\n",
    "                output_file.write(';'.join(new_line)+'\\n')\n",
    "    print('File {} written...'.format(new_csv))\n",
    "    return new_csv"
   ]
  },
  {
   "cell_type": "code",
   "execution_count": 108,
   "metadata": {},
   "outputs": [
    {
     "name": "stdout",
     "output_type": "stream",
     "text": [
      "File cleaned_exp.csv written...\n"
     ]
    },
    {
     "data": {
      "text/plain": [
       "'cleaned_exp.csv'"
      ]
     },
     "execution_count": 108,
     "metadata": {},
     "output_type": "execute_result"
    }
   ],
   "source": [
    "# fingers crossed!\n",
    "fix_csv('exp_groups.csv','cleaned_exp.csv')"
   ]
  },
  {
   "cell_type": "code",
   "execution_count": null,
   "metadata": {},
   "outputs": [],
   "source": []
  },
  {
   "cell_type": "code",
   "execution_count": null,
   "metadata": {},
   "outputs": [],
   "source": [
    "df = pd.read_csv('cleaned_exp.csv',sep=';')"
   ]
  },
  {
   "cell_type": "markdown",
   "metadata": {},
   "source": [
    "It works. Now let's see the differences, the category depth and so on."
   ]
  },
  {
   "cell_type": "code",
   "execution_count": null,
   "metadata": {},
   "outputs": [],
   "source": [
    "df.head()"
   ]
  },
  {
   "cell_type": "code",
   "execution_count": null,
   "metadata": {},
   "outputs": [],
   "source": [
    "df.IDNSST.unique()"
   ]
  },
  {
   "cell_type": "code",
   "execution_count": null,
   "metadata": {},
   "outputs": [],
   "source": [
    "len(df.IDNSST.unique())"
   ]
  },
  {
   "cell_type": "code",
   "execution_count": null,
   "metadata": {},
   "outputs": [],
   "source": [
    "len(df.nNSST.unique())"
   ]
  },
  {
   "cell_type": "markdown",
   "metadata": {},
   "source": [
    "### Danger!\n",
    "\n",
    "Wow! These two value counts should be identical! What happened?\n",
    "As it turned out, the category ID **are not numbers** - they are IDs alright, but not numeric. They follow a hierarchy where the topmost category 0 contains subcategories like 00, 01 etc. We cannot simply load the csv files, since pandas will read all IDNSST fields as integers, be it 1 or 01 or 001, converting them to 1 uncoditionally.\n",
    "\n",
    "What we need to do is read the CSV file whilst preserving the IDNSST field as a string: dtype={'IDNSST': object}"
   ]
  },
  {
   "cell_type": "code",
   "execution_count": 90,
   "metadata": {},
   "outputs": [],
   "source": [
    "df = pd.read_csv('cleaned_exp.csv',sep=';', dtype={'IDNSST': object})"
   ]
  },
  {
   "cell_type": "code",
   "execution_count": 91,
   "metadata": {},
   "outputs": [
    {
     "data": {
      "text/plain": [
       "337"
      ]
     },
     "execution_count": 91,
     "metadata": {},
     "output_type": "execute_result"
    }
   ],
   "source": [
    "len(df.IDNSST.unique())"
   ]
  },
  {
   "cell_type": "code",
   "execution_count": 92,
   "metadata": {},
   "outputs": [
    {
     "data": {
      "text/plain": [
       "329"
      ]
     },
     "execution_count": 92,
     "metadata": {},
     "output_type": "execute_result"
    }
   ],
   "source": [
    "len(df.nNSST.unique())"
   ]
  },
  {
   "cell_type": "markdown",
   "metadata": {},
   "source": [
    "Here, we are interested **only** in the codes that contain exactly three digits, not two, not one."
   ]
  },
  {
   "cell_type": "code",
   "execution_count": 93,
   "metadata": {},
   "outputs": [],
   "source": [
    "mask = (df['IDNSST'].str.len() == 3)\n",
    "df = df.loc[mask]"
   ]
  },
  {
   "cell_type": "code",
   "execution_count": 94,
   "metadata": {},
   "outputs": [
    {
     "data": {
      "text/plain": [
       "261"
      ]
     },
     "execution_count": 94,
     "metadata": {},
     "output_type": "execute_result"
    }
   ],
   "source": [
    "len(df.IDNSST.unique())"
   ]
  },
  {
   "cell_type": "code",
   "execution_count": 95,
   "metadata": {},
   "outputs": [
    {
     "data": {
      "text/plain": [
       "261"
      ]
     },
     "execution_count": 95,
     "metadata": {},
     "output_type": "execute_result"
    }
   ],
   "source": [
    "len(df.nNSST.unique())"
   ]
  },
  {
   "cell_type": "markdown",
   "metadata": {},
   "source": [
    "## The Big Function\n",
    "\n",
    "Here I'll try to wrap everything learnt so far, in a big fat function that should take in two raw csv files - one for the exports and the other one for the imports - do all the processing, joining, filtering and so on and output a new csv file, ready to be visualized with plotly and Dash."
   ]
  },
  {
   "cell_type": "code",
   "execution_count": 96,
   "metadata": {},
   "outputs": [],
   "source": [
    "# code the function\n",
    "def preprocess(export_file, import_file, output_file='processed.csv'):\n",
    "    \n",
    "    columns_to_keep = ['god','nDrzave','nNSST','IDNSST','IDDrzave','IDVrPod','vrednost']\n",
    "    \n",
    "    not_countries = [\n",
    "    'All countries',\n",
    "    'CEFTA countries',\n",
    "    'Countries not specified in extra',\n",
    "    'European Monetary Union',\n",
    "    'European Union (28)'   \n",
    "    ]\n",
    "    \n",
    "    # if the csvs have been fixed, don't bother doing it again\n",
    "    if not (os.path.exists('fixed_export_file.csv') and os.path.exists('fixed_import_file.csv')):\n",
    "    \n",
    "        # fix csv files\n",
    "        fix_csv(export_file, 'fixed_export_file.csv')\n",
    "        fix_csv(import_file, 'fixed_import_file.csv')\n",
    "    \n",
    "    # load in pandas, separator is \";\" and IDNSST is a STRING!\n",
    "    exp = pd.read_csv('fixed_export_file.csv',sep=\";\",dtype={'IDNSST': object})\n",
    "    imp = pd.read_csv('fixed_import_file.csv',sep=\";\", dtype={'IDNSST': object})\n",
    "    \n",
    "    exp = exp[columns_to_keep]\n",
    "    imp = imp[columns_to_keep]\n",
    "    \n",
    "    # columns\n",
    "    exp.rename(columns={\n",
    "        'god':'year',\n",
    "        'nDrzave':'country',\n",
    "        'IDDrzave':'ccode',\n",
    "        'nNSST':'category',\n",
    "        'vrednost':'export_value'\n",
    "    }, inplace=True)\n",
    "    \n",
    "    imp.rename(columns={\n",
    "        'god':'year',\n",
    "        'nDrzave':'country',\n",
    "        'IDDrzave':'ccode',\n",
    "        'nNSST':'category',\n",
    "        'vrednost':'import_value'\n",
    "    }, inplace=True)\n",
    "    \n",
    "     \n",
    "    # merge\n",
    "    commerce = pd.merge(imp, exp, how='left',\n",
    "                        left_on=['year','country', 'category','IDVrPod','ccode','IDNSST'],\n",
    "                        right_on =['year','country', 'category','IDVrPod','ccode','IDNSST'])\n",
    "    \n",
    "    # filter rows\n",
    "    commerce = commerce[commerce['IDVrPod']==2]\n",
    "    \n",
    "    # filter IDNSST not in 0-9 AS STRINGS OF LENGTH 3!    \n",
    "    mask = (commerce['IDNSST'].str.len() == 3)\n",
    "    commerce = commerce.loc[mask]\n",
    "      \n",
    "    \n",
    "    # drop IDVrPod\n",
    "    commerce.drop('IDVrPod',axis=1, inplace=True)\n",
    "    \n",
    "    # remove non countries\n",
    "    commerce = commerce[commerce['country'].isin(not_countries)==False]\n",
    "    \n",
    "    # fix country code\n",
    "    commerce['ccode']=commerce['ccode'].apply(convert_ccode)\n",
    "    \n",
    "    #add the trade balance and total exchange\n",
    "    commerce['balance'] = commerce['export_value']-commerce['import_value']\n",
    "    commerce['exchange'] = commerce['export_value'] + commerce['import_value']\n",
    "    \n",
    "    # fix ccode\n",
    "    commerce['ccode'] = commerce.apply(fix_ccode, axis=1)   \n",
    "    \n",
    "    # write to new csv file\n",
    "    # index = False ensures that there is no Unnamed Column for the index!\n",
    "    commerce.to_csv(output_file, sep=';', index=False)\n",
    "    \n",
    "    print(\"Written to file {}\".format(output_file))"
   ]
  },
  {
   "cell_type": "code",
   "execution_count": 97,
   "metadata": {},
   "outputs": [
    {
     "name": "stdout",
     "output_type": "stream",
     "text": [
      "Written to file test2.csv\n"
     ]
    }
   ],
   "source": [
    "# test run\n",
    "preprocess(export_file='exp_groups.csv', import_file='imp_groups.csv', output_file='test2.csv')"
   ]
  },
  {
   "cell_type": "code",
   "execution_count": 99,
   "metadata": {},
   "outputs": [],
   "source": [
    "test_df = pd.read_csv('test2.csv', sep=';', dtype={'IDNSST': object})"
   ]
  },
  {
   "cell_type": "code",
   "execution_count": 100,
   "metadata": {},
   "outputs": [
    {
     "data": {
      "text/html": [
       "<div>\n",
       "<style scoped>\n",
       "    .dataframe tbody tr th:only-of-type {\n",
       "        vertical-align: middle;\n",
       "    }\n",
       "\n",
       "    .dataframe tbody tr th {\n",
       "        vertical-align: top;\n",
       "    }\n",
       "\n",
       "    .dataframe thead th {\n",
       "        text-align: right;\n",
       "    }\n",
       "</style>\n",
       "<table border=\"1\" class=\"dataframe\">\n",
       "  <thead>\n",
       "    <tr style=\"text-align: right;\">\n",
       "      <th></th>\n",
       "      <th>year</th>\n",
       "      <th>country</th>\n",
       "      <th>category</th>\n",
       "      <th>IDNSST</th>\n",
       "      <th>ccode</th>\n",
       "      <th>import_value</th>\n",
       "      <th>export_value</th>\n",
       "      <th>balance</th>\n",
       "      <th>exchange</th>\n",
       "    </tr>\n",
       "  </thead>\n",
       "  <tbody>\n",
       "    <tr>\n",
       "      <th>0</th>\n",
       "      <td>2004</td>\n",
       "      <td>Andorra</td>\n",
       "      <td>Fish,fresh(live or dead),chilled or frozen</td>\n",
       "      <td>034</td>\n",
       "      <td>AND</td>\n",
       "      <td>27.0</td>\n",
       "      <td>0.0</td>\n",
       "      <td>-27.0</td>\n",
       "      <td>27.0</td>\n",
       "    </tr>\n",
       "    <tr>\n",
       "      <th>1</th>\n",
       "      <td>2004</td>\n",
       "      <td>Andorra</td>\n",
       "      <td>Other plastics in primary forms</td>\n",
       "      <td>575</td>\n",
       "      <td>AND</td>\n",
       "      <td>0.1</td>\n",
       "      <td>0.0</td>\n",
       "      <td>-0.1</td>\n",
       "      <td>0.1</td>\n",
       "    </tr>\n",
       "    <tr>\n",
       "      <th>2</th>\n",
       "      <td>2004</td>\n",
       "      <td>Andorra</td>\n",
       "      <td>Articles of rubber n.e.s.</td>\n",
       "      <td>629</td>\n",
       "      <td>AND</td>\n",
       "      <td>0.1</td>\n",
       "      <td>0.0</td>\n",
       "      <td>-0.1</td>\n",
       "      <td>0.1</td>\n",
       "    </tr>\n",
       "    <tr>\n",
       "      <th>3</th>\n",
       "      <td>2004</td>\n",
       "      <td>Andorra</td>\n",
       "      <td>Knitted or crocheted fabrics,n.e.s.</td>\n",
       "      <td>655</td>\n",
       "      <td>AND</td>\n",
       "      <td>2.9</td>\n",
       "      <td>0.0</td>\n",
       "      <td>-2.9</td>\n",
       "      <td>2.9</td>\n",
       "    </tr>\n",
       "    <tr>\n",
       "      <th>4</th>\n",
       "      <td>2004</td>\n",
       "      <td>Andorra</td>\n",
       "      <td>Made-up articles,wholly or chiefly of textile ...</td>\n",
       "      <td>658</td>\n",
       "      <td>AND</td>\n",
       "      <td>1.3</td>\n",
       "      <td>0.0</td>\n",
       "      <td>-1.3</td>\n",
       "      <td>1.3</td>\n",
       "    </tr>\n",
       "  </tbody>\n",
       "</table>\n",
       "</div>"
      ],
      "text/plain": [
       "   year  country                                           category IDNSST  \\\n",
       "0  2004  Andorra         Fish,fresh(live or dead),chilled or frozen    034   \n",
       "1  2004  Andorra                    Other plastics in primary forms    575   \n",
       "2  2004  Andorra                          Articles of rubber n.e.s.    629   \n",
       "3  2004  Andorra                Knitted or crocheted fabrics,n.e.s.    655   \n",
       "4  2004  Andorra  Made-up articles,wholly or chiefly of textile ...    658   \n",
       "\n",
       "  ccode  import_value  export_value  balance  exchange  \n",
       "0   AND          27.0           0.0    -27.0      27.0  \n",
       "1   AND           0.1           0.0     -0.1       0.1  \n",
       "2   AND           0.1           0.0     -0.1       0.1  \n",
       "3   AND           2.9           0.0     -2.9       2.9  \n",
       "4   AND           1.3           0.0     -1.3       1.3  "
      ]
     },
     "execution_count": 100,
     "metadata": {},
     "output_type": "execute_result"
    }
   ],
   "source": [
    "test_df.head()"
   ]
  },
  {
   "cell_type": "code",
   "execution_count": null,
   "metadata": {},
   "outputs": [],
   "source": [
    "test_df2[(test_df2['year']==2017)&(test_df2['country']=='China')]['export_value'].sum()"
   ]
  },
  {
   "cell_type": "markdown",
   "metadata": {},
   "source": [
    "## Small refactoring\n",
    "\n",
    "I do not like the fact that the big **preprocess** function leaves the intermediate files _fixed_export_file.csv_ and _fixed_import_file.csv_ around, but this is a one-off operation and the data isn't going to change more often then once a year, so I guess I could leave it at that.\n",
    "\n",
    "There should be included some small tests/sanity checks - hardcode some trade values and then make a small test-suite while maintaining approximate equality, bearing in mind the inherent mutability of the trade data.\n",
    "\n",
    "Anyway, we could also download the original csv files (OG) with requests, but the files are big and heavy and, as I mentioned, they do not change very often, so I would advise against it. "
   ]
  },
  {
   "cell_type": "code",
   "execution_count": null,
   "metadata": {},
   "outputs": [],
   "source": []
  }
 ],
 "metadata": {
  "kernelspec": {
   "display_name": "Python 3",
   "language": "python",
   "name": "python3"
  }
 },
 "nbformat": 4,
 "nbformat_minor": 2
}
